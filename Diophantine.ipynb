{
 "cells": [
  {
   "cell_type": "markdown",
   "metadata": {},
   "source": [
    "# Problem 2.5.5\n",
    "\n",
    "## (a)\n",
    "\n",
    "*A man has $4.55 in change composed entirely of dimes and quarters. What are the maximum and minimum number of coins that he can have? Is it possible for the number of dimes to equal the number of quarters?*"
   ]
  },
  {
   "cell_type": "markdown",
   "metadata": {},
   "source": [
    "Since dimes are worth 10 cents and quarters are worth 25 cents, this situation corresponds to the linear diophantine equation $10x+25y=455$.\n",
    "\n",
    "Check to see if there are solutions by seeing if $\\gcd(10, 25) | 455$."
   ]
  },
  {
   "cell_type": "code",
   "execution_count": 1,
   "metadata": {},
   "outputs": [
    {
     "data": {
      "text/plain": [
       "(5, true)"
      ]
     },
     "execution_count": 1,
     "metadata": {},
     "output_type": "execute_result"
    }
   ],
   "source": [
    "gcd(10, 25), rem(455, gcd(10, 25)) == 0"
   ]
  },
  {
   "cell_type": "markdown",
   "metadata": {},
   "source": [
    "$\\gcd(10, 25) = 5$ and $5 | 455$ so Burton Theorem 2.9 says that there are infinitely-many solutions. To find one of those solutions, use the Extended Euclidean Algorithm:"
   ]
  },
  {
   "cell_type": "code",
   "execution_count": 2,
   "metadata": {},
   "outputs": [
    {
     "data": {
      "text/plain": [
       "(5, -2, 1)"
      ]
     },
     "execution_count": 2,
     "metadata": {},
     "output_type": "execute_result"
    }
   ],
   "source": [
    "gcdx(10, 25)"
   ]
  },
  {
   "cell_type": "markdown",
   "metadata": {},
   "source": [
    "This says that $5 = -2(10) + 1(25)$. Multiplying by 91 gives $455 = -182(10) + 91(25)$ so $x_0 = -182$ and $y_0 = 91$.\n",
    "\n",
    "Theorem 2.9 also shows how to find all of the solutions given a particular solution. In this case, we find that $x = -182 + 5t$ and $y = 91 - 2t$ where $t$ is any integer. $x$ and $y$ are the *number* of coins, so the only solutions that make sense are when $x, y \\ge 0$. Solving $-182 + 5t \\ge 0$ and $91 - 2t \\ge 0$, we find that $37 \\le t \\le 45$ (remembering that $t$ is an integer).\n",
    "\n",
    "Before addressing the specific questions posed by this problem, I’d like to introduce code that implements the procedure I used to solve this and similar problems:"
   ]
  },
  {
   "cell_type": "code",
   "execution_count": 3,
   "metadata": {},
   "outputs": [
    {
     "data": {
      "text/plain": [
       "diophantine (generic function with 2 methods)"
      ]
     },
     "execution_count": 3,
     "metadata": {},
     "output_type": "execute_result"
    }
   ],
   "source": [
    "function theorem2_9(a, b, c)\n",
    "  d, r, s = gcdx(a, b)\n",
    "  rem(c, d) == 0 || throw(DomainError((a = a, b = b, c = c), \"gcd($a, $b) = $d does not divide $c; so, no solutions to $(a)x + $(b)y = $c\"))\n",
    "  (\n",
    "      x0 = r * c ÷ d,\n",
    "      dx = b ÷ d,\n",
    "      y0 = s * c ÷ d,\n",
    "      dy = a ÷ d\n",
    "  )\n",
    "end\n",
    "\n",
    "function diophantine(a, b, c)\n",
    "  try\n",
    "      solutions = theorem2_9(a, b, c)\n",
    "      \"$(a)x + $(b)y = $c has solutions x = $(solutions.x0) + $(solutions.dx)t, y = $(solutions.y0) − $(solutions.dy)t; t an integer\"\n",
    "  catch e\n",
    "      e\n",
    "  end\n",
    "end\n",
    "\n",
    "function diophantine(a, b, c, range)\n",
    "  try\n",
    "      solutions = theorem2_9(a, b, c)\n",
    "      for t in range\n",
    "          x = solutions.x0 + solutions.dx * t\n",
    "          y = solutions.y0 - solutions.dy * t\n",
    "          println((t = t, x = x, y = y))\n",
    "      end\n",
    "  catch e\n",
    "      e\n",
    "  end\n",
    "end\n"
   ]
  },
  {
   "cell_type": "markdown",
   "metadata": {},
   "source": [
    "This lets me get the computer to do the calculations so I can make more interesting mistakes:"
   ]
  },
  {
   "cell_type": "code",
   "execution_count": 4,
   "metadata": {},
   "outputs": [
    {
     "data": {
      "text/plain": [
       "\"10x + 25y = 455 has solutions x = -182 + 5t, y = 91 − 2t; t an integer\""
      ]
     },
     "execution_count": 4,
     "metadata": {},
     "output_type": "execute_result"
    }
   ],
   "source": [
    "diophantine(10, 25, 455)"
   ]
  },
  {
   "cell_type": "markdown",
   "metadata": {},
   "source": [
    "It also lets me explore solutions once I’ve worked out an appropriate range for $t$:"
   ]
  },
  {
   "cell_type": "code",
   "execution_count": 5,
   "metadata": {},
   "outputs": [
    {
     "name": "stdout",
     "output_type": "stream",
     "text": [
      "(t = 37, x = 3, y = 17)\n",
      "(t = 38, x = 8, y = 15)\n",
      "(t = 39, x = 13, y = 13)\n",
      "(t = 40, x = 18, y = 11)\n",
      "(t = 41, x = 23, y = 9)\n",
      "(t = 42, x = 28, y = 7)\n",
      "(t = 43, x = 33, y = 5)\n",
      "(t = 44, x = 38, y = 3)\n",
      "(t = 45, x = 43, y = 1)\n"
     ]
    }
   ],
   "source": [
    "diophantine(10, 25, 455, 37:45)"
   ]
  },
  {
   "cell_type": "markdown",
   "metadata": {},
   "source": [
    "Going back to the questions for this problem; the number of coins is minimum when the number of quarters is largest: 3 dimes and 17 quarters; 20 coins. Conversely, the number of coins is maximum when the number of dimes is largest: 43 dimes and one quarter; 44 coins. We could solve $-182 + 5t = 91 - 2t$ to find that the number of coins can be equal when $t = 39$ (13 dimes, 13 quarters), but it’s easier to find it in the results above."
   ]
  },
  {
   "cell_type": "markdown",
   "metadata": {},
   "source": [
    "## (b)\n",
    "\n",
    "*The neighborhood theater charges $1.80 for adult admissions and $.75 for children. On a particular evening the total receipts were $90. Assuming that more adults than children were present, how many people attended?*"
   ]
  },
  {
   "cell_type": "code",
   "execution_count": 6,
   "metadata": {},
   "outputs": [
    {
     "data": {
      "text/plain": [
       "\"180x + 75y = 9000 has solutions x = -1200 + 5t, y = 3000 − 12t; t an integer\""
      ]
     },
     "execution_count": 6,
     "metadata": {},
     "output_type": "execute_result"
    }
   ],
   "source": [
    "diophantine(180, 75, 9000)"
   ]
  },
  {
   "cell_type": "markdown",
   "metadata": {},
   "source": [
    "Restricting solutions to $-1200 + 5t \\ge 0$, $3000 - 12t \\ge 0$ and $-1200 + 5t > 3000 - 12t$ we find that $t$ can be $248$ or $249$."
   ]
  },
  {
   "cell_type": "code",
   "execution_count": 7,
   "metadata": {},
   "outputs": [
    {
     "name": "stdout",
     "output_type": "stream",
     "text": [
      "(t = 248, x = 40, y = 24)\n",
      "(t = 249, x = 45, y = 12)\n"
     ]
    }
   ],
   "source": [
    "diophantine(180, 75, 9000, 248:249)"
   ]
  },
  {
   "cell_type": "markdown",
   "metadata": {},
   "source": [
    "So, either 64 ($40 + 24$) or 57 ($45 + 12$) people attended."
   ]
  },
  {
   "cell_type": "markdown",
   "metadata": {},
   "source": [
    "## (c)\n",
    "\n",
    "*A certain number of sixes and nines is added to give a sum of 126; if the number of sixes and nines is interchanged, the new sum is 114. How many of each were there originally?*"
   ]
  },
  {
   "cell_type": "code",
   "execution_count": 8,
   "metadata": {},
   "outputs": [
    {
     "data": {
      "text/plain": [
       "\"6x + 9y = 126 has solutions x = -42 + 3t, y = 42 − 2t; t an integer\""
      ]
     },
     "execution_count": 8,
     "metadata": {},
     "output_type": "execute_result"
    }
   ],
   "source": [
    "diophantine(6, 9, 126)"
   ]
  },
  {
   "cell_type": "code",
   "execution_count": 9,
   "metadata": {},
   "outputs": [
    {
     "data": {
      "text/plain": [
       "\"9x + 6y = 114 has solutions x = 38 + 2t, y = -38 − 3t; t an integer\""
      ]
     },
     "execution_count": 9,
     "metadata": {},
     "output_type": "execute_result"
    }
   ],
   "source": [
    "diophantine(9, 6, 114)"
   ]
  },
  {
   "cell_type": "markdown",
   "metadata": {},
   "source": [
    "We would like to know when $x_a = x_b$ and $y_a = y_b$ where $a$ and $b$ are the first and second sums. This leads to $-42 + 3t_a = 38 + 2t_b$ and $42 - 2t_a = -38 - 3t_b$. I’m sure I could solve these two equations in two unknowns if I spent enough effort remembering how to do that, but why don’t I just look at the solutions when the numbers of sixes and nines are positive. (a reasonable interpretation of, “a certain number of …”)"
   ]
  },
  {
   "cell_type": "code",
   "execution_count": 10,
   "metadata": {},
   "outputs": [
    {
     "name": "stdout",
     "output_type": "stream",
     "text": [
      "(t = 15, x = 3, y = 12)\n",
      "(t = 16, x = 6, y = 10)\n",
      "(t = 17, x = 9, y = 8)\n",
      "(t = 18, x = 12, y = 6)\n",
      "(t = 19, x = 15, y = 4)\n",
      "(t = 20, x = 18, y = 2)\n"
     ]
    }
   ],
   "source": [
    "diophantine(6, 9, 126, 15:20)"
   ]
  },
  {
   "cell_type": "code",
   "execution_count": 11,
   "metadata": {},
   "outputs": [
    {
     "name": "stdout",
     "output_type": "stream",
     "text": [
      "(t = -18, x = 2, y = 16)\n",
      "(t = -17, x = 4, y = 13)\n",
      "(t = -16, x = 6, y = 10)\n",
      "(t = -15, x = 8, y = 7)\n",
      "(t = -14, x = 10, y = 4)\n",
      "(t = -13, x = 12, y = 1)\n"
     ]
    }
   ],
   "source": [
    "diophantine(9, 6, 114, -18:-13)"
   ]
  },
  {
   "cell_type": "markdown",
   "metadata": {},
   "source": [
    "There it is: 6 sixes and 10 nines equals 126, and 6 nines and 10 sixes is 114."
   ]
  }
 ],
 "metadata": {
  "kernelspec": {
   "display_name": "Julia 1.2.0",
   "language": "julia",
   "name": "julia-1.2"
  },
  "language_info": {
   "file_extension": ".jl",
   "mimetype": "application/julia",
   "name": "julia",
   "version": "1.2.0"
  }
 },
 "nbformat": 4,
 "nbformat_minor": 4
}
