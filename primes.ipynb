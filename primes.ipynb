{
 "cells": [
  {
   "cell_type": "code",
   "execution_count": 1,
   "metadata": {},
   "outputs": [
    {
     "data": {
      "text/plain": [
       "10-element Array{Any,1}:\n",
       "   2\n",
       "   7\n",
       "  23\n",
       "  47\n",
       "  79\n",
       " 167\n",
       " 223\n",
       " 359\n",
       " 439\n",
       " 727"
      ]
     },
     "execution_count": 1,
     "metadata": {},
     "output_type": "execute_result"
    }
   ],
   "source": [
    "using Primes\n",
    "let results = [], n = 2\n",
    "    while length(results) < 10\n",
    "        candidate = n^2 - 2\n",
    "        isprime(candidate) && push!(results, candidate)\n",
    "        n += 1\n",
    "    end\n",
    "    results\n",
    "end"
   ]
  },
  {
   "cell_type": "code",
   "execution_count": 2,
   "metadata": {},
   "outputs": [
    {
     "name": "stdout",
     "output_type": "stream",
     "text": [
      "1 is 1 + 0²\n",
      "2 is 1 + 1²\n",
      "3 is 2 + 1²\n",
      "4 is 3 + 1²\n",
      "5 is 1 + 2²\n",
      "6 is 2 + 2²\n",
      "7 is 3 + 2²\n",
      "8 is 7 + 1²\n",
      "9 is 5 + 2²\n",
      "10 is 1 + 3²\n",
      "11 is 2 + 3²\n",
      "12 is 3 + 3²\n",
      "13 is 13 + 0²\n",
      "14 is 5 + 3²\n",
      "15 is 11 + 2²\n",
      "16 is 7 + 3²\n",
      "17 is 1 + 4²\n",
      "18 is 2 + 4²\n",
      "19 is 3 + 4²\n",
      "20 is 11 + 3²\n",
      "21 is 5 + 4²\n",
      "22 is 13 + 3²\n",
      "23 is 7 + 4²\n",
      "24 is 23 + 1²\n",
      "25 is counterexample\n"
     ]
    }
   ],
   "source": [
    "let n = 1, done = false\n",
    "    while !done\n",
    "#         println(\"n is $n\")\n",
    "        found = false\n",
    "        for p in pushfirst!(primes(n), 1)\n",
    "#             println(\"p is $p\")\n",
    "            for a in 0:n\n",
    "#                 println(\"a is $a\")\n",
    "                a^2 < n || break\n",
    "                x = p + a^2\n",
    "                if x == n\n",
    "                    println(\"$n is $p + $(a)²\")\n",
    "                    found = true\n",
    "                    break\n",
    "                end\n",
    "            end\n",
    "            found && break\n",
    "        end\n",
    "        if found\n",
    "            n += 1\n",
    "        else\n",
    "            println(\"$n is counterexample\")\n",
    "            done = true\n",
    "        end\n",
    "#         println(\"\")\n",
    "    end\n",
    "end"
   ]
  },
  {
   "cell_type": "code",
   "execution_count": 3,
   "metadata": {},
   "outputs": [
    {
     "name": "stdout",
     "output_type": "stream",
     "text": [
      "25 is counterexample\n",
      "34 is counterexample\n",
      "58 is counterexample\n",
      "64 is counterexample\n",
      "85 is counterexample\n",
      "91 is counterexample\n",
      "121 is counterexample\n",
      "130 is counterexample\n",
      "169 is counterexample\n",
      "196 is counterexample\n"
     ]
    }
   ],
   "source": [
    "let n = 1, counterexamples = []\n",
    "    while length(counterexamples) < 10\n",
    "        P = pushfirst!(primes(n), 1)\n",
    "        A = [n - a^2 for a in 0:floor(Int, sqrt(n))]\n",
    "        if length(intersect(P, A)) == 0\n",
    "            push!(counterexamples, n)\n",
    "            println(\"$n is counterexample\")\n",
    "        end\n",
    "        n += 1\n",
    "    end\n",
    "end"
   ]
  },
  {
   "cell_type": "code",
   "execution_count": 4,
   "metadata": {},
   "outputs": [
    {
     "data": {
      "text/plain": [
       "3-element Array{Any,1}:\n",
       "  3\n",
       "  5\n",
       " 17"
      ]
     },
     "execution_count": 4,
     "metadata": {},
     "output_type": "execute_result"
    }
   ],
   "source": [
    "let results = [], n = 1\n",
    "    while length(results) < 3\n",
    "        candidate = 2^n + 1\n",
    "        isprime(candidate) && push!(results, candidate)\n",
    "        n += 1\n",
    "    end\n",
    "    results\n",
    "end"
   ]
  },
  {
   "cell_type": "code",
   "execution_count": 5,
   "metadata": {},
   "outputs": [
    {
     "data": {
      "text/plain": [
       "5-element Array{Any,1}:\n",
       "  401\n",
       "  577\n",
       "  677\n",
       " 1297\n",
       " 1601"
      ]
     },
     "execution_count": 5,
     "metadata": {},
     "output_type": "execute_result"
    }
   ],
   "source": [
    "let results = [], n = 17\n",
    "    while length(results) < 5\n",
    "        candidate = n^2 + 1\n",
    "        isprime(candidate) && push!(results, candidate)\n",
    "        n += 1\n",
    "    end\n",
    "    results\n",
    "end"
   ]
  },
  {
   "cell_type": "code",
   "execution_count": 6,
   "metadata": {},
   "outputs": [
    {
     "data": {
      "text/plain": [
       "2 ⋅ 617"
      ]
     },
     "execution_count": 6,
     "metadata": {},
     "output_type": "execute_result"
    }
   ],
   "source": [
    "factor(1234)"
   ]
  },
  {
   "cell_type": "code",
   "execution_count": 7,
   "metadata": {},
   "outputs": [
    {
     "data": {
      "text/plain": [
       "2^2 ⋅ 3 ⋅ 5 ⋅ 13^2"
      ]
     },
     "execution_count": 7,
     "metadata": {},
     "output_type": "execute_result"
    }
   ],
   "source": [
    "factor(10140)"
   ]
  },
  {
   "cell_type": "code",
   "execution_count": 8,
   "metadata": {},
   "outputs": [
    {
     "data": {
      "text/plain": [
       "2^5 ⋅ 3^2 ⋅ 5^3"
      ]
     },
     "execution_count": 8,
     "metadata": {},
     "output_type": "execute_result"
    }
   ],
   "source": [
    "factor(36000)"
   ]
  },
  {
   "cell_type": "code",
   "execution_count": 9,
   "metadata": {},
   "outputs": [
    {
     "data": {
      "text/plain": [
       "20-element Array{Any,1}:\n",
       " (35, 1301)\n",
       " (36, 1373)\n",
       " (37, 1447)\n",
       " (38, 1523)\n",
       " (39, 1601)\n",
       " (42, 1847)\n",
       " (43, 1933)\n",
       " (45, 2111)\n",
       " (46, 2203)\n",
       " (47, 2297)\n",
       " (48, 2393)\n",
       " (50, 2591)\n",
       " (51, 2693)\n",
       " (52, 2797)\n",
       " (53, 2903)\n",
       " (54, 3011)\n",
       " (55, 3121)\n",
       " (57, 3347)\n",
       " (58, 3463)\n",
       " (59, 3581)"
      ]
     },
     "execution_count": 9,
     "metadata": {},
     "output_type": "execute_result"
    }
   ],
   "source": [
    "let results = [], n = 35\n",
    "    while length(results) < 20\n",
    "        candidate = n^2 + n + 41\n",
    "        isprime(candidate) && push!(results, (n, candidate))\n",
    "        n += 1\n",
    "    end\n",
    "    results\n",
    "end"
   ]
  },
  {
   "cell_type": "code",
   "execution_count": 10,
   "metadata": {},
   "outputs": [
    {
     "data": {
      "text/plain": [
       "2560081"
      ]
     },
     "execution_count": 10,
     "metadata": {},
     "output_type": "execute_result"
    }
   ],
   "source": [
    "40^4+40+41"
   ]
  },
  {
   "cell_type": "code",
   "execution_count": 11,
   "metadata": {},
   "outputs": [
    {
     "data": {
      "text/plain": [
       "false"
      ]
     },
     "execution_count": 11,
     "metadata": {},
     "output_type": "execute_result"
    }
   ],
   "source": [
    "isprime(2560081)"
   ]
  }
 ],
 "metadata": {
  "kernelspec": {
   "display_name": "Julia 1.2.0",
   "language": "julia",
   "name": "julia-1.2"
  },
  "language_info": {
   "file_extension": ".jl",
   "mimetype": "application/julia",
   "name": "julia",
   "version": "1.2.0"
  }
 },
 "nbformat": 4,
 "nbformat_minor": 4
}
