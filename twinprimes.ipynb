{
 "cells": [
  {
   "cell_type": "code",
   "execution_count": 1,
   "metadata": {},
   "outputs": [
    {
     "data": {
      "text/plain": [
       "twinprimes (generic function with 1 method)"
      ]
     },
     "execution_count": 1,
     "metadata": {},
     "output_type": "execute_result"
    }
   ],
   "source": [
    "using Primes\n",
    "\n",
    "function twinprimes(m)\n",
    "  results = []\n",
    "  n = 4\n",
    "  while length(results) < m\n",
    "    isprime(n-1) && isprime(n+1) && push!(results, (n-1, n+1))\n",
    "    n += 2\n",
    "  end\n",
    "  results\n",
    "end"
   ]
  },
  {
   "cell_type": "code",
   "execution_count": 2,
   "metadata": {},
   "outputs": [
    {
     "data": {
      "text/plain": [
       "30-element Array{Any,1}:\n",
       " (3, 5)    \n",
       " (5, 7)    \n",
       " (11, 13)  \n",
       " (17, 19)  \n",
       " (29, 31)  \n",
       " (41, 43)  \n",
       " (59, 61)  \n",
       " (71, 73)  \n",
       " (101, 103)\n",
       " (107, 109)\n",
       " (137, 139)\n",
       " (149, 151)\n",
       " (179, 181)\n",
       " ⋮         \n",
       " (281, 283)\n",
       " (311, 313)\n",
       " (347, 349)\n",
       " (419, 421)\n",
       " (431, 433)\n",
       " (461, 463)\n",
       " (521, 523)\n",
       " (569, 571)\n",
       " (599, 601)\n",
       " (617, 619)\n",
       " (641, 643)\n",
       " (659, 661)"
      ]
     },
     "execution_count": 2,
     "metadata": {},
     "output_type": "execute_result"
    }
   ],
   "source": [
    "twinprimes(30)"
   ]
  },
  {
   "cell_type": "code",
   "execution_count": null,
   "metadata": {},
   "outputs": [],
   "source": []
  }
 ],
 "metadata": {
  "kernelspec": {
   "display_name": "Julia 1.2.0",
   "language": "julia",
   "name": "julia-1.2"
  },
  "language_info": {
   "file_extension": ".jl",
   "mimetype": "application/julia",
   "name": "julia",
   "version": "1.2.0"
  }
 },
 "nbformat": 4,
 "nbformat_minor": 4
}
