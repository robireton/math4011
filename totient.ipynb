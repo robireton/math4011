{
 "cells": [
  {
   "cell_type": "code",
   "execution_count": 1,
   "metadata": {},
   "outputs": [
    {
     "data": {
      "text/plain": [
       "explore (generic function with 1 method)"
      ]
     },
     "execution_count": 1,
     "metadata": {},
     "output_type": "execute_result"
    }
   ],
   "source": [
    "using Primes\n",
    "using LaTeXStrings\n",
    "function explore(m, n)\n",
    "    mn = m * n\n",
    "    IJulia.display(latexstring(\"\\\\text{Exploring } m = $m, n = $n, mn = $mn\"))\n",
    "    IJulia.display(latexstring(\"\\\\varphi($m) = $(totient(m)), \\\\varphi($n) = $(totient(n)), \\\\varphi($mn) = $(totient(mn))\"))\n",
    "\n",
    "    A = [k for k ∈ 1:mn if gcd(k, mn) == 1]\n",
    "    IJulia.display(latexstring(\"A = \\\\{k  \\\\mid 1 \\\\le k \\\\le $mn, \\\\gcd(k, $mn) = 1\\\\} \\\\text{ contains $A}\"))\n",
    "    \n",
    "    B = [(a, b) for a ∈ 1:m, b ∈ 1:n if gcd(a, m) == 1 && gcd(b, n) == 1]\n",
    "    IJulia.display(latexstring(\"B = \\\\{(a, b) \\\\mid 1 \\\\le a \\\\le $m, 1 \\\\le b \\\\le $n, \\\\gcd(a, $m) = 1, \\\\gcd(b, $n) = 1\\\\} \\\\text{ contains $B}\"))\n",
    "    \n",
    "    F(x) = (x % m, x % n)\n",
    "    IJulia.display(latexstring(\"F(x) = (x \\\\bmod $m, x \\\\bmod $n)\"))\n",
    "    \n",
    "    IJulia.display(L\"\\text{map } A \\mapsto F(A)\")\n",
    "    IJulia.display.([latexstring(\"$x \\\\mapsto $(F(x))\") for x ∈ A])\n",
    "\n",
    "    C = F.(A)\n",
    "    result = B ⊆ C && C ⊆ B\n",
    "    IJulia.display(latexstring(\"B = F(A) \\\\text{? $result}\"))\n",
    "    result\n",
    "end\n"
   ]
  },
  {
   "cell_type": "code",
   "execution_count": 2,
   "metadata": {},
   "outputs": [
    {
     "data": {
      "text/latex": [
       "$\\text{Exploring } m = 3, n = 5, mn = 15$"
      ],
      "text/plain": [
       "L\"$\\text{Exploring } m = 3, n = 5, mn = 15$\""
      ]
     },
     "metadata": {},
     "output_type": "display_data"
    },
    {
     "data": {
      "text/latex": [
       "$\\varphi(3) = 2, \\varphi(5) = 4, \\varphi(15) = 8$"
      ],
      "text/plain": [
       "L\"$\\varphi(3) = 2, \\varphi(5) = 4, \\varphi(15) = 8$\""
      ]
     },
     "metadata": {},
     "output_type": "display_data"
    },
    {
     "data": {
      "text/latex": [
       "$A = \\{k  \\mid 1 \\le k \\le 15, \\gcd(k, 15) = 1\\} \\text{ contains [1, 2, 4, 7, 8, 11, 13, 14]}$"
      ],
      "text/plain": [
       "L\"$A = \\{k  \\mid 1 \\le k \\le 15, \\gcd(k, 15) = 1\\} \\text{ contains [1, 2, 4, 7, 8, 11, 13, 14]}$\""
      ]
     },
     "metadata": {},
     "output_type": "display_data"
    },
    {
     "data": {
      "text/latex": [
       "$B = \\{(a, b) \\mid 1 \\le a \\le 3, 1 \\le b \\le 5, \\gcd(a, 3) = 1, \\gcd(b, 5) = 1\\} \\text{ contains Tuple{Int64,Int64}[(1, 1), (2, 1), (1, 2), (2, 2), (1, 3), (2, 3), (1, 4), (2, 4)]}$"
      ],
      "text/plain": [
       "L\"$B = \\{(a, b) \\mid 1 \\le a \\le 3, 1 \\le b \\le 5, \\gcd(a, 3) = 1, \\gcd(b, 5) = 1\\} \\text{ contains Tuple{Int64,Int64}[(1, 1), (2, 1), (1, 2), (2, 2), (1, 3), (2, 3), (1, 4), (2, 4)]}$\""
      ]
     },
     "metadata": {},
     "output_type": "display_data"
    },
    {
     "data": {
      "text/latex": [
       "$F(x) = (x \\bmod 3, x \\bmod 5)$"
      ],
      "text/plain": [
       "L\"$F(x) = (x \\bmod 3, x \\bmod 5)$\""
      ]
     },
     "metadata": {},
     "output_type": "display_data"
    },
    {
     "data": {
      "text/latex": [
       "$\\text{map } A \\mapsto F(A)$"
      ],
      "text/plain": [
       "L\"$\\text{map } A \\mapsto F(A)$\""
      ]
     },
     "metadata": {},
     "output_type": "display_data"
    },
    {
     "data": {
      "text/latex": [
       "$1 \\mapsto (1, 1)$"
      ],
      "text/plain": [
       "L\"$1 \\mapsto (1, 1)$\""
      ]
     },
     "metadata": {},
     "output_type": "display_data"
    },
    {
     "data": {
      "text/latex": [
       "$2 \\mapsto (2, 2)$"
      ],
      "text/plain": [
       "L\"$2 \\mapsto (2, 2)$\""
      ]
     },
     "metadata": {},
     "output_type": "display_data"
    },
    {
     "data": {
      "text/latex": [
       "$4 \\mapsto (1, 4)$"
      ],
      "text/plain": [
       "L\"$4 \\mapsto (1, 4)$\""
      ]
     },
     "metadata": {},
     "output_type": "display_data"
    },
    {
     "data": {
      "text/latex": [
       "$7 \\mapsto (1, 2)$"
      ],
      "text/plain": [
       "L\"$7 \\mapsto (1, 2)$\""
      ]
     },
     "metadata": {},
     "output_type": "display_data"
    },
    {
     "data": {
      "text/latex": [
       "$8 \\mapsto (2, 3)$"
      ],
      "text/plain": [
       "L\"$8 \\mapsto (2, 3)$\""
      ]
     },
     "metadata": {},
     "output_type": "display_data"
    },
    {
     "data": {
      "text/latex": [
       "$11 \\mapsto (2, 1)$"
      ],
      "text/plain": [
       "L\"$11 \\mapsto (2, 1)$\""
      ]
     },
     "metadata": {},
     "output_type": "display_data"
    },
    {
     "data": {
      "text/latex": [
       "$13 \\mapsto (1, 3)$"
      ],
      "text/plain": [
       "L\"$13 \\mapsto (1, 3)$\""
      ]
     },
     "metadata": {},
     "output_type": "display_data"
    },
    {
     "data": {
      "text/latex": [
       "$14 \\mapsto (2, 4)$"
      ],
      "text/plain": [
       "L\"$14 \\mapsto (2, 4)$\""
      ]
     },
     "metadata": {},
     "output_type": "display_data"
    },
    {
     "data": {
      "text/latex": [
       "$B = F(A) \\text{? true}$"
      ],
      "text/plain": [
       "L\"$B = F(A) \\text{? true}$\""
      ]
     },
     "metadata": {},
     "output_type": "display_data"
    },
    {
     "data": {
      "text/plain": [
       "true"
      ]
     },
     "execution_count": 2,
     "metadata": {},
     "output_type": "execute_result"
    }
   ],
   "source": [
    "explore(3, 5)"
   ]
  },
  {
   "cell_type": "code",
   "execution_count": 3,
   "metadata": {},
   "outputs": [
    {
     "data": {
      "text/latex": [
       "$\\text{Exploring } m = 6, n = 7, mn = 42$"
      ],
      "text/plain": [
       "L\"$\\text{Exploring } m = 6, n = 7, mn = 42$\""
      ]
     },
     "metadata": {},
     "output_type": "display_data"
    },
    {
     "data": {
      "text/latex": [
       "$\\varphi(6) = 2, \\varphi(7) = 6, \\varphi(42) = 12$"
      ],
      "text/plain": [
       "L\"$\\varphi(6) = 2, \\varphi(7) = 6, \\varphi(42) = 12$\""
      ]
     },
     "metadata": {},
     "output_type": "display_data"
    },
    {
     "data": {
      "text/latex": [
       "$A = \\{k  \\mid 1 \\le k \\le 42, \\gcd(k, 42) = 1\\} \\text{ contains [1, 5, 11, 13, 17, 19, 23, 25, 29, 31, 37, 41]}$"
      ],
      "text/plain": [
       "L\"$A = \\{k  \\mid 1 \\le k \\le 42, \\gcd(k, 42) = 1\\} \\text{ contains [1, 5, 11, 13, 17, 19, 23, 25, 29, 31, 37, 41]}$\""
      ]
     },
     "metadata": {},
     "output_type": "display_data"
    },
    {
     "data": {
      "text/latex": [
       "$B = \\{(a, b) \\mid 1 \\le a \\le 6, 1 \\le b \\le 7, \\gcd(a, 6) = 1, \\gcd(b, 7) = 1\\} \\text{ contains Tuple{Int64,Int64}[(1, 1), (5, 1), (1, 2), (5, 2), (1, 3), (5, 3), (1, 4), (5, 4), (1, 5), (5, 5), (1, 6), (5, 6)]}$"
      ],
      "text/plain": [
       "L\"$B = \\{(a, b) \\mid 1 \\le a \\le 6, 1 \\le b \\le 7, \\gcd(a, 6) = 1, \\gcd(b, 7) = 1\\} \\text{ contains Tuple{Int64,Int64}[(1, 1), (5, 1), (1, 2), (5, 2), (1, 3), (5, 3), (1, 4), (5, 4), (1, 5), (5, 5), (1, 6), (5, 6)]}$\""
      ]
     },
     "metadata": {},
     "output_type": "display_data"
    },
    {
     "data": {
      "text/latex": [
       "$F(x) = (x \\bmod 6, x \\bmod 7)$"
      ],
      "text/plain": [
       "L\"$F(x) = (x \\bmod 6, x \\bmod 7)$\""
      ]
     },
     "metadata": {},
     "output_type": "display_data"
    },
    {
     "data": {
      "text/latex": [
       "$\\text{map } A \\mapsto F(A)$"
      ],
      "text/plain": [
       "L\"$\\text{map } A \\mapsto F(A)$\""
      ]
     },
     "metadata": {},
     "output_type": "display_data"
    },
    {
     "data": {
      "text/latex": [
       "$1 \\mapsto (1, 1)$"
      ],
      "text/plain": [
       "L\"$1 \\mapsto (1, 1)$\""
      ]
     },
     "metadata": {},
     "output_type": "display_data"
    },
    {
     "data": {
      "text/latex": [
       "$5 \\mapsto (5, 5)$"
      ],
      "text/plain": [
       "L\"$5 \\mapsto (5, 5)$\""
      ]
     },
     "metadata": {},
     "output_type": "display_data"
    },
    {
     "data": {
      "text/latex": [
       "$11 \\mapsto (5, 4)$"
      ],
      "text/plain": [
       "L\"$11 \\mapsto (5, 4)$\""
      ]
     },
     "metadata": {},
     "output_type": "display_data"
    },
    {
     "data": {
      "text/latex": [
       "$13 \\mapsto (1, 6)$"
      ],
      "text/plain": [
       "L\"$13 \\mapsto (1, 6)$\""
      ]
     },
     "metadata": {},
     "output_type": "display_data"
    },
    {
     "data": {
      "text/latex": [
       "$17 \\mapsto (5, 3)$"
      ],
      "text/plain": [
       "L\"$17 \\mapsto (5, 3)$\""
      ]
     },
     "metadata": {},
     "output_type": "display_data"
    },
    {
     "data": {
      "text/latex": [
       "$19 \\mapsto (1, 5)$"
      ],
      "text/plain": [
       "L\"$19 \\mapsto (1, 5)$\""
      ]
     },
     "metadata": {},
     "output_type": "display_data"
    },
    {
     "data": {
      "text/latex": [
       "$23 \\mapsto (5, 2)$"
      ],
      "text/plain": [
       "L\"$23 \\mapsto (5, 2)$\""
      ]
     },
     "metadata": {},
     "output_type": "display_data"
    },
    {
     "data": {
      "text/latex": [
       "$25 \\mapsto (1, 4)$"
      ],
      "text/plain": [
       "L\"$25 \\mapsto (1, 4)$\""
      ]
     },
     "metadata": {},
     "output_type": "display_data"
    },
    {
     "data": {
      "text/latex": [
       "$29 \\mapsto (5, 1)$"
      ],
      "text/plain": [
       "L\"$29 \\mapsto (5, 1)$\""
      ]
     },
     "metadata": {},
     "output_type": "display_data"
    },
    {
     "data": {
      "text/latex": [
       "$31 \\mapsto (1, 3)$"
      ],
      "text/plain": [
       "L\"$31 \\mapsto (1, 3)$\""
      ]
     },
     "metadata": {},
     "output_type": "display_data"
    },
    {
     "data": {
      "text/latex": [
       "$37 \\mapsto (1, 2)$"
      ],
      "text/plain": [
       "L\"$37 \\mapsto (1, 2)$\""
      ]
     },
     "metadata": {},
     "output_type": "display_data"
    },
    {
     "data": {
      "text/latex": [
       "$41 \\mapsto (5, 6)$"
      ],
      "text/plain": [
       "L\"$41 \\mapsto (5, 6)$\""
      ]
     },
     "metadata": {},
     "output_type": "display_data"
    },
    {
     "data": {
      "text/latex": [
       "$B = F(A) \\text{? true}$"
      ],
      "text/plain": [
       "L\"$B = F(A) \\text{? true}$\""
      ]
     },
     "metadata": {},
     "output_type": "display_data"
    },
    {
     "data": {
      "text/plain": [
       "true"
      ]
     },
     "execution_count": 3,
     "metadata": {},
     "output_type": "execute_result"
    }
   ],
   "source": [
    "explore(6, 7)"
   ]
  },
  {
   "cell_type": "code",
   "execution_count": 4,
   "metadata": {},
   "outputs": [
    {
     "data": {
      "text/latex": [
       "$\\text{Exploring } m = 4, n = 6, mn = 24$"
      ],
      "text/plain": [
       "L\"$\\text{Exploring } m = 4, n = 6, mn = 24$\""
      ]
     },
     "metadata": {},
     "output_type": "display_data"
    },
    {
     "data": {
      "text/latex": [
       "$\\varphi(4) = 2, \\varphi(6) = 2, \\varphi(24) = 8$"
      ],
      "text/plain": [
       "L\"$\\varphi(4) = 2, \\varphi(6) = 2, \\varphi(24) = 8$\""
      ]
     },
     "metadata": {},
     "output_type": "display_data"
    },
    {
     "data": {
      "text/latex": [
       "$A = \\{k  \\mid 1 \\le k \\le 24, \\gcd(k, 24) = 1\\} \\text{ contains [1, 5, 7, 11, 13, 17, 19, 23]}$"
      ],
      "text/plain": [
       "L\"$A = \\{k  \\mid 1 \\le k \\le 24, \\gcd(k, 24) = 1\\} \\text{ contains [1, 5, 7, 11, 13, 17, 19, 23]}$\""
      ]
     },
     "metadata": {},
     "output_type": "display_data"
    },
    {
     "data": {
      "text/latex": [
       "$B = \\{(a, b) \\mid 1 \\le a \\le 4, 1 \\le b \\le 6, \\gcd(a, 4) = 1, \\gcd(b, 6) = 1\\} \\text{ contains Tuple{Int64,Int64}[(1, 1), (3, 1), (1, 5), (3, 5)]}$"
      ],
      "text/plain": [
       "L\"$B = \\{(a, b) \\mid 1 \\le a \\le 4, 1 \\le b \\le 6, \\gcd(a, 4) = 1, \\gcd(b, 6) = 1\\} \\text{ contains Tuple{Int64,Int64}[(1, 1), (3, 1), (1, 5), (3, 5)]}$\""
      ]
     },
     "metadata": {},
     "output_type": "display_data"
    },
    {
     "data": {
      "text/latex": [
       "$F(x) = (x \\bmod 4, x \\bmod 6)$"
      ],
      "text/plain": [
       "L\"$F(x) = (x \\bmod 4, x \\bmod 6)$\""
      ]
     },
     "metadata": {},
     "output_type": "display_data"
    },
    {
     "data": {
      "text/latex": [
       "$\\text{map } A \\mapsto F(A)$"
      ],
      "text/plain": [
       "L\"$\\text{map } A \\mapsto F(A)$\""
      ]
     },
     "metadata": {},
     "output_type": "display_data"
    },
    {
     "data": {
      "text/latex": [
       "$1 \\mapsto (1, 1)$"
      ],
      "text/plain": [
       "L\"$1 \\mapsto (1, 1)$\""
      ]
     },
     "metadata": {},
     "output_type": "display_data"
    },
    {
     "data": {
      "text/latex": [
       "$5 \\mapsto (1, 5)$"
      ],
      "text/plain": [
       "L\"$5 \\mapsto (1, 5)$\""
      ]
     },
     "metadata": {},
     "output_type": "display_data"
    },
    {
     "data": {
      "text/latex": [
       "$7 \\mapsto (3, 1)$"
      ],
      "text/plain": [
       "L\"$7 \\mapsto (3, 1)$\""
      ]
     },
     "metadata": {},
     "output_type": "display_data"
    },
    {
     "data": {
      "text/latex": [
       "$11 \\mapsto (3, 5)$"
      ],
      "text/plain": [
       "L\"$11 \\mapsto (3, 5)$\""
      ]
     },
     "metadata": {},
     "output_type": "display_data"
    },
    {
     "data": {
      "text/latex": [
       "$13 \\mapsto (1, 1)$"
      ],
      "text/plain": [
       "L\"$13 \\mapsto (1, 1)$\""
      ]
     },
     "metadata": {},
     "output_type": "display_data"
    },
    {
     "data": {
      "text/latex": [
       "$17 \\mapsto (1, 5)$"
      ],
      "text/plain": [
       "L\"$17 \\mapsto (1, 5)$\""
      ]
     },
     "metadata": {},
     "output_type": "display_data"
    },
    {
     "data": {
      "text/latex": [
       "$19 \\mapsto (3, 1)$"
      ],
      "text/plain": [
       "L\"$19 \\mapsto (3, 1)$\""
      ]
     },
     "metadata": {},
     "output_type": "display_data"
    },
    {
     "data": {
      "text/latex": [
       "$23 \\mapsto (3, 5)$"
      ],
      "text/plain": [
       "L\"$23 \\mapsto (3, 5)$\""
      ]
     },
     "metadata": {},
     "output_type": "display_data"
    },
    {
     "data": {
      "text/latex": [
       "$B = F(A) \\text{? true}$"
      ],
      "text/plain": [
       "L\"$B = F(A) \\text{? true}$\""
      ]
     },
     "metadata": {},
     "output_type": "display_data"
    },
    {
     "data": {
      "text/plain": [
       "true"
      ]
     },
     "execution_count": 4,
     "metadata": {},
     "output_type": "execute_result"
    }
   ],
   "source": [
    "explore(4, 6)"
   ]
  },
  {
   "cell_type": "code",
   "execution_count": null,
   "metadata": {},
   "outputs": [],
   "source": []
  }
 ],
 "metadata": {
  "kernelspec": {
   "display_name": "Julia 1.3.1",
   "language": "julia",
   "name": "julia-1.3"
  },
  "language_info": {
   "file_extension": ".jl",
   "mimetype": "application/julia",
   "name": "julia",
   "version": "1.3.1"
  }
 },
 "nbformat": 4,
 "nbformat_minor": 4
}
