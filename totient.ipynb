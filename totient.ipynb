{
 "cells": [
  {
   "cell_type": "code",
   "execution_count": 1,
   "metadata": {},
   "outputs": [
    {
     "data": {
      "text/plain": [
       "\"𝜑(m = 3) = 2, 𝜑(n = 5) = 4, 𝜑(mn = 15) = 8\""
      ]
     },
     "execution_count": 1,
     "metadata": {},
     "output_type": "execute_result"
    }
   ],
   "source": [
    "using Primes\n",
    "m = big(3)\n",
    "n = big(5)\n",
    "mn = m * n\n",
    "\"𝜑(m = $m) = $(totient(m)), 𝜑(n = $n) = $(totient(n)), 𝜑(mn = $mn) = $(totient(mn))\""
   ]
  },
  {
   "cell_type": "code",
   "execution_count": 2,
   "metadata": {},
   "outputs": [
    {
     "data": {
      "text/plain": [
       "8-element Array{BigInt,1}:\n",
       "  1\n",
       "  2\n",
       "  4\n",
       "  7\n",
       "  8\n",
       " 11\n",
       " 13\n",
       " 14"
      ]
     },
     "execution_count": 2,
     "metadata": {},
     "output_type": "execute_result"
    }
   ],
   "source": [
    "A = [k for k ∈ 1:mn if gcd(k, mn) == 1]"
   ]
  },
  {
   "cell_type": "code",
   "execution_count": 3,
   "metadata": {},
   "outputs": [
    {
     "data": {
      "text/plain": [
       "8-element Array{Tuple{BigInt,BigInt},1}:\n",
       " (1, 1)\n",
       " (2, 1)\n",
       " (1, 2)\n",
       " (2, 2)\n",
       " (1, 3)\n",
       " (2, 3)\n",
       " (1, 4)\n",
       " (2, 4)"
      ]
     },
     "execution_count": 3,
     "metadata": {},
     "output_type": "execute_result"
    }
   ],
   "source": [
    "B = [(a, b) for a ∈ 1:m, b ∈ 1:n if gcd(a, m) == 1 && gcd(b, n) == 1]"
   ]
  },
  {
   "cell_type": "code",
   "execution_count": 4,
   "metadata": {},
   "outputs": [
    {
     "data": {
      "text/plain": [
       "F (generic function with 1 method)"
      ]
     },
     "execution_count": 4,
     "metadata": {},
     "output_type": "execute_result"
    }
   ],
   "source": [
    "F(x) = (x % m, x % n)"
   ]
  },
  {
   "cell_type": "code",
   "execution_count": 5,
   "metadata": {},
   "outputs": [
    {
     "data": {
      "text/plain": [
       "8-element Array{Tuple{BigInt,BigInt},1}:\n",
       " (1, 1)\n",
       " (2, 2)\n",
       " (1, 4)\n",
       " (1, 2)\n",
       " (2, 3)\n",
       " (2, 1)\n",
       " (1, 3)\n",
       " (2, 4)"
      ]
     },
     "execution_count": 5,
     "metadata": {},
     "output_type": "execute_result"
    }
   ],
   "source": [
    "C = F.(A)"
   ]
  },
  {
   "cell_type": "code",
   "execution_count": 6,
   "metadata": {},
   "outputs": [
    {
     "data": {
      "text/plain": [
       "true"
      ]
     },
     "execution_count": 6,
     "metadata": {},
     "output_type": "execute_result"
    }
   ],
   "source": [
    "B ⊆ C && C ⊆ B"
   ]
  },
  {
   "cell_type": "code",
   "execution_count": 7,
   "metadata": {},
   "outputs": [
    {
     "data": {
      "text/plain": [
       "8-element Array{String,1}:\n",
       " \"1 ↦ (1, 1)\" \n",
       " \"2 ↦ (2, 2)\" \n",
       " \"4 ↦ (1, 4)\" \n",
       " \"7 ↦ (1, 2)\" \n",
       " \"8 ↦ (2, 3)\" \n",
       " \"11 ↦ (2, 1)\"\n",
       " \"13 ↦ (1, 3)\"\n",
       " \"14 ↦ (2, 4)\""
      ]
     },
     "execution_count": 7,
     "metadata": {},
     "output_type": "execute_result"
    }
   ],
   "source": [
    "[\"$x ↦ $(F(x))\" for x ∈ A]"
   ]
  },
  {
   "cell_type": "code",
   "execution_count": 8,
   "metadata": {},
   "outputs": [
    {
     "data": {
      "text/plain": [
       "15-element Array{Tuple{BigInt,BigInt},1}:\n",
       " (1, 1)  \n",
       " (2, 1)  \n",
       " (3, 3)  \n",
       " (4, 1)  \n",
       " (5, 5)  \n",
       " (6, 3)  \n",
       " (7, 1)  \n",
       " (8, 1)  \n",
       " (9, 3)  \n",
       " (10, 5) \n",
       " (11, 1) \n",
       " (12, 3) \n",
       " (13, 1) \n",
       " (14, 1) \n",
       " (15, 15)"
      ]
     },
     "execution_count": 8,
     "metadata": {},
     "output_type": "execute_result"
    }
   ],
   "source": [
    "[(k, gcd(k, mn)) for k ∈ 1:mn]"
   ]
  },
  {
   "cell_type": "code",
   "execution_count": null,
   "metadata": {},
   "outputs": [],
   "source": []
  }
 ],
 "metadata": {
  "kernelspec": {
   "display_name": "Julia 1.2.0",
   "language": "julia",
   "name": "julia-1.2"
  },
  "language_info": {
   "file_extension": ".jl",
   "mimetype": "application/julia",
   "name": "julia",
   "version": "1.2.0"
  }
 },
 "nbformat": 4,
 "nbformat_minor": 4
}
