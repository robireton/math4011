{
 "cells": [
  {
   "cell_type": "code",
   "execution_count": 1,
   "metadata": {},
   "outputs": [],
   "source": [
    "using Primes"
   ]
  },
  {
   "cell_type": "code",
   "execution_count": 2,
   "metadata": {},
   "outputs": [
    {
     "data": {
      "text/plain": [
       "2^5 ⋅ 3 ⋅ 13"
      ]
     },
     "execution_count": 2,
     "metadata": {},
     "output_type": "execute_result"
    }
   ],
   "source": [
    "factor(1248)"
   ]
  },
  {
   "cell_type": "code",
   "execution_count": 3,
   "metadata": {},
   "outputs": [
    {
     "data": {
      "text/plain": [
       "2 ⋅ 3^2 ⋅ 173"
      ]
     },
     "execution_count": 3,
     "metadata": {},
     "output_type": "execute_result"
    }
   ],
   "source": [
    "factor(3114)"
   ]
  },
  {
   "cell_type": "code",
   "execution_count": 4,
   "metadata": {},
   "outputs": [
    {
     "data": {
      "text/plain": [
       "6"
      ]
     },
     "execution_count": 4,
     "metadata": {},
     "output_type": "execute_result"
    }
   ],
   "source": [
    "gcd(3114, 1248)"
   ]
  },
  {
   "cell_type": "markdown",
   "metadata": {},
   "source": [
    "what is $2^5 \\times 3 \\times 13$?"
   ]
  },
  {
   "cell_type": "code",
   "execution_count": 5,
   "metadata": {},
   "outputs": [
    {
     "data": {
      "text/plain": [
       "2^5 ⋅ 3"
      ]
     },
     "execution_count": 5,
     "metadata": {},
     "output_type": "execute_result"
    }
   ],
   "source": [
    "factor(96)"
   ]
  },
  {
   "cell_type": "code",
   "execution_count": 6,
   "metadata": {},
   "outputs": [
    {
     "data": {
      "text/plain": [
       "2^2 ⋅ 43"
      ]
     },
     "execution_count": 6,
     "metadata": {},
     "output_type": "execute_result"
    }
   ],
   "source": [
    "factor(172)"
   ]
  },
  {
   "cell_type": "markdown",
   "metadata": {},
   "source": [
    "## example induction proof\n",
    "\n",
    "Let $\\alpha, \\beta\\in S_n$. Define $\\alpha^0=1$, $\\alpha^1=\\alpha$, and for $k\\ge 2$ $\\alpha^k$ is the composition of $\\alpha$ with itself $k$ times.\n",
    "\n",
    "Prove that if $\\alpha$ and $\\beta$ are disjoint, then $\\forall k\\ge0$, $(\\alpha\\beta)^k=\\alpha^k\\beta^k$\n",
    "    "
   ]
  },
  {
   "cell_type": "markdown",
   "metadata": {},
   "source": [
    "From the definition, when $k=0$, we have $(\\alpha\\beta)^0 = 1 = 1\\circ 1 = \\alpha^0\\beta^0$. Likewise, when $k=1$, $(\\alpha\\beta)^1 = \\alpha\\beta = \\alpha^1\\beta^1$.\n",
    "\n",
    "Now, suppose that $(\\alpha\\beta)^n = \\alpha^n\\beta^n$. Then, $(\\alpha\\beta)(\\alpha\\beta)^n = (\\alpha\\beta)^{n+1} = (\\alpha\\beta)(\\alpha^n\\beta^n)$. $\\alpha$ and $\\beta$ are disjoint, so we know from exercise 1.8 that they commute, allowing us to write $(\\alpha\\beta)(\\alpha^n\\beta^n)=\\alpha\\beta\\alpha^n\\beta^n=\\alpha\\alpha^n\\beta\\beta^n=\\alpha^{n+1}\\beta^{n+1}$. This gives $(\\alpha\\beta)^{n+1} = \\alpha^{n+1}\\beta^{n+1}$.\n",
    "\n",
    "We know that $(\\alpha\\beta)^k=\\alpha^k\\beta^k$ holds for $k=0$ and $k=1$, so, by induction, it must hold for every $k>1$ as well.\n"
   ]
  },
  {
   "cell_type": "code",
   "execution_count": null,
   "metadata": {},
   "outputs": [],
   "source": []
  }
 ],
 "metadata": {
  "kernelspec": {
   "display_name": "Julia 1.2.0",
   "language": "julia",
   "name": "julia-1.2"
  },
  "language_info": {
   "file_extension": ".jl",
   "mimetype": "application/julia",
   "name": "julia",
   "version": "1.2.0"
  }
 },
 "nbformat": 4,
 "nbformat_minor": 4
}
