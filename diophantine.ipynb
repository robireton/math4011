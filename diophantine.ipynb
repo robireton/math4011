{
 "cells": [
  {
   "cell_type": "code",
   "execution_count": 3,
   "metadata": {},
   "outputs": [
    {
     "data": {
      "text/plain": [
       "diophantine (generic function with 2 methods)"
      ]
     },
     "execution_count": 3,
     "metadata": {},
     "output_type": "execute_result"
    }
   ],
   "source": [
    "function theorem2_9(a, b, c)\n",
    "  d, r, s = gcdx(a, b)\n",
    "  rem(c, d) == 0 || throw(DomainError((a = a, b = b, c = c), \"gcd($a, $b) = $d does not divide $c; so, no solutions to $(a)x + $(b)y = $c\"))\n",
    "  (\n",
    "      x0 = r * c ÷ d,\n",
    "      dx = b ÷ d,\n",
    "      y0 = s * c ÷ d,\n",
    "      dy = a ÷ d\n",
    "  )\n",
    "end\n",
    "\n",
    "function diophantine(a, b, c)\n",
    "  try\n",
    "      solutions = theorem2_9(a, b, c)\n",
    "      \"$(a)x + $(b)y = $c has solutions x = $(solutions.x0) + $(solutions.dx)t, y = $(solutions.y0) − $(solutions.dy)t; t an integer\"\n",
    "  catch e\n",
    "      e\n",
    "  end\n",
    "end\n",
    "\n",
    "function diophantine(a, b, c, range)\n",
    "  try\n",
    "      solutions = theorem2_9(a, b, c)\n",
    "      for t in range\n",
    "          x = solutions.x0 + solutions.dx * t\n",
    "          y = solutions.y0 - solutions.dy * t\n",
    "          println((t = t, x = x, y = y))\n",
    "      end\n",
    "  catch e\n",
    "      e\n",
    "  end\n",
    "end\n"
   ]
  },
  {
   "cell_type": "code",
   "execution_count": 16,
   "metadata": {},
   "outputs": [
    {
     "data": {
      "text/plain": [
       "\"240x + 17y = 1 has solutions x = -8 + 17t, y = 113 − 240t; t an integer\""
      ]
     },
     "execution_count": 16,
     "metadata": {},
     "output_type": "execute_result"
    }
   ],
   "source": [
    "diophantine(240, 17, 1)"
   ]
  },
  {
   "cell_type": "code",
   "execution_count": 14,
   "metadata": {},
   "outputs": [
    {
     "data": {
      "text/plain": [
       "\"255x + 16y = 1 has solutions x = -1 + 16t, y = 16 − 255t; t an integer\""
      ]
     },
     "execution_count": 14,
     "metadata": {},
     "output_type": "execute_result"
    }
   ],
   "source": [
    "diophantine(255,16,1)"
   ]
  },
  {
   "cell_type": "code",
   "execution_count": 15,
   "metadata": {},
   "outputs": [
    {
     "data": {
      "text/plain": [
       "\"272x + 15y = 1 has solutions x = -7 + 15t, y = 127 − 272t; t an integer\""
      ]
     },
     "execution_count": 15,
     "metadata": {},
     "output_type": "execute_result"
    }
   ],
   "source": [
    "diophantine(272,15,1)"
   ]
  },
  {
   "cell_type": "code",
   "execution_count": 17,
   "metadata": {},
   "outputs": [
    {
     "name": "stdout",
     "output_type": "stream",
     "text": [
      "(t = -1, x = -22, y = 399)\n",
      "(t = 0, x = -7, y = 127)\n",
      "(t = 1, x = 8, y = -145)\n"
     ]
    }
   ],
   "source": [
    "diophantine(272,15,1,-1:1)"
   ]
  },
  {
   "cell_type": "code",
   "execution_count": null,
   "metadata": {},
   "outputs": [],
   "source": []
  }
 ],
 "metadata": {
  "kernelspec": {
   "display_name": "Julia 1.2.0",
   "language": "julia",
   "name": "julia-1.2"
  },
  "language_info": {
   "file_extension": ".jl",
   "mimetype": "application/julia",
   "name": "julia",
   "version": "1.2.0"
  }
 },
 "nbformat": 4,
 "nbformat_minor": 4
}
