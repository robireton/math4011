{
 "cells": [
  {
   "cell_type": "code",
   "execution_count": 1,
   "metadata": {},
   "outputs": [],
   "source": [
    "def findfactor(N):\n",
    "    if N%2 == 0:\n",
    "        print(f'{N} is even')\n",
    "        return\n",
    "    else:\n",
    "        n = 1\n",
    "        while 1:\n",
    "            t = 2*n+1\n",
    "            if N%t == 0:\n",
    "                print(f'{N} is divisible by {t}. N/t = {N//t}')\n",
    "                return\n",
    "            if t*t > N:\n",
    "                print(f'{N} is prime')\n",
    "                return\n",
    "            n = n+1\n"
   ]
  },
  {
   "cell_type": "code",
   "execution_count": 2,
   "metadata": {},
   "outputs": [
    {
     "name": "stdout",
     "output_type": "stream",
     "text": [
      "53 is prime\n"
     ]
    }
   ],
   "source": [
    "findfactor(53)"
   ]
  },
  {
   "cell_type": "code",
   "execution_count": 3,
   "metadata": {},
   "outputs": [
    {
     "name": "stdout",
     "output_type": "stream",
     "text": [
      "1961 is divisible by 37. N/t = 53\n"
     ]
    }
   ],
   "source": [
    "findfactor(37*53)"
   ]
  },
  {
   "cell_type": "code",
   "execution_count": 4,
   "metadata": {},
   "outputs": [
    {
     "name": "stdout",
     "output_type": "stream",
     "text": [
      "295630763 is divisible by 509. N/t = 580807\n"
     ]
    }
   ],
   "source": [
    "findfactor(295630763)"
   ]
  },
  {
   "cell_type": "code",
   "execution_count": null,
   "metadata": {},
   "outputs": [],
   "source": []
  }
 ],
 "metadata": {
  "kernelspec": {
   "display_name": "Python 3",
   "language": "python",
   "name": "python3"
  },
  "language_info": {
   "codemirror_mode": {
    "name": "ipython",
    "version": 3
   },
   "file_extension": ".py",
   "mimetype": "text/x-python",
   "name": "python",
   "nbconvert_exporter": "python",
   "pygments_lexer": "ipython3",
   "version": "3.7.3"
  }
 },
 "nbformat": 4,
 "nbformat_minor": 4
}
