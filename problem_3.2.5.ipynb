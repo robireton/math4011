{
 "cells": [
  {
   "cell_type": "markdown",
   "metadata": {},
   "source": [
    "# Problem 5\n",
    "\n",
    "Show that any composite three-digit number must have a prime factor less than or equal to 31.\n",
    "\n",
    "## Proof by Exhaustion"
   ]
  },
  {
   "cell_type": "code",
   "execution_count": 1,
   "metadata": {},
   "outputs": [
    {
     "name": "stdout",
     "output_type": "stream",
     "text": [
      "Proved, by exhaustion.\n"
     ]
    }
   ],
   "source": [
    "using Primes\n",
    "P = Set(primes(31)) # P is the set of all primes less than or equal to 31\n",
    "for n in 100:999 # all three-digit numbers\n",
    "    isprime(n) && continue # we are only interested in composite numbers\n",
    "    F = factor(Set, n) # F is the set of prime factors of n\n",
    "    isempty(F ∩ P) && error(\"$n has no prime factor less than or equal to 31 [$(factor(n))]\")\n",
    "    # If we make it here, then n has at least one prime factor less than or equal to 31\n",
    "end\n",
    "println(\"Proved, by exhaustion.\")"
   ]
  },
  {
   "cell_type": "markdown",
   "metadata": {},
   "source": [
    "## Proof *via* Eratosthenes\n",
    "\n",
    "From Eratosthenes we have that every composite number $a$ has a prime divisor $p$ satisfying $p \\leq \\sqrt{a}$. The largest three-digit number is $999$. $\\lfloor \\sqrt{999} \\rfloor = 31$. So, $999$ and every composite number less than it has a prime factor less than or equal to $31$."
   ]
  },
  {
   "cell_type": "markdown",
   "metadata": {},
   "source": [
    "## Further Discussion\n",
    "\n",
    "What’s the first number that doesn’t have a prime factor less than or equal to 31? Running the above code with a larger upper bound throws an error:"
   ]
  },
  {
   "cell_type": "code",
   "execution_count": 2,
   "metadata": {},
   "outputs": [
    {
     "ename": "ErrorException",
     "evalue": "1369 has no prime factor less than or equal to 31 [Primes.Factorization(37 => 2)]",
     "output_type": "error",
     "traceback": [
      "1369 has no prime factor less than or equal to 31 [Primes.Factorization(37 => 2)]",
      "",
      "Stacktrace:",
      " [1] error(::String) at ./error.jl:33",
      " [2] top-level scope at ./In[2]:4"
     ]
    }
   ],
   "source": [
    "for n in 1000:9999 # all four-digit numbers\n",
    "    isprime(n) && continue # we are only interested in composite numbers\n",
    "    F = factor(Set, n) # F is the set of prime factors of n\n",
    "    isempty(F ∩ P) && error(\"$n has no prime factor less than or equal to 31 [$(factor(n))]\")\n",
    "    # If we make it here, then n has at least one prime factor less than or equal to 31\n",
    "end\n",
    "println(\"Proved, by exhaustion.\")"
   ]
  },
  {
   "cell_type": "markdown",
   "metadata": {},
   "source": [
    "So, the answer is $1369$ which is $37^2$. $37$ is the first prime greater than 31:"
   ]
  },
  {
   "cell_type": "code",
   "execution_count": 3,
   "metadata": {},
   "outputs": [
    {
     "data": {
      "text/plain": [
       "37"
      ]
     },
     "execution_count": 3,
     "metadata": {},
     "output_type": "execute_result"
    }
   ],
   "source": [
    "nextprime(1 + 31)"
   ]
  },
  {
   "cell_type": "markdown",
   "metadata": {},
   "source": [
    "so, the smallest composite number without a prime factor less than or equal to 31 is the number with the *smallest/simplest* canonical form that includes just the next prime raised to a power greater than one.\n",
    "\\begin{equation}\n",
    "n = \\prod\\limits_{i}{p_i^{k_i}} = 37^2 = 1369\n",
    "\\end{equation}"
   ]
  }
 ],
 "metadata": {
  "kernelspec": {
   "display_name": "Julia 1.2.0",
   "language": "julia",
   "name": "julia-1.2"
  },
  "language_info": {
   "file_extension": ".jl",
   "mimetype": "application/julia",
   "name": "julia",
   "version": "1.2.0"
  }
 },
 "nbformat": 4,
 "nbformat_minor": 4
}
