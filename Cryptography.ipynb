{
 "cells": [
  {
   "cell_type": "code",
   "execution_count": 1,
   "metadata": {},
   "outputs": [],
   "source": [
    "def charencode(key, c):\n",
    "    # Only change letters and digits.\n",
    "    # if a character is a letter or a digit,\n",
    "    # adjust its code to a range that starts at zero,\n",
    "    # offset by the key, wrapping around if the range is exceeded,\n",
    "    # adjust back to the ASCII range,\n",
    "    # then return the encoded character\n",
    "    if ord(c) <  ord('0'): return c\n",
    "    if ord(c) <= ord('9'): return chr(ord('0') + (ord(c)-ord('0')+key)%10)\n",
    "    if ord(c) <  ord('A'): return c\n",
    "    if ord(c) <= ord('Z'): return chr(ord('A') + (ord(c)-ord('A')+key)%26)\n",
    "    if ord(c) <  ord('a'): return c\n",
    "    if ord(c) <= ord('z'): return chr(ord('a') + (ord(c)-ord('a')+key)%26)\n",
    "    return c\n",
    "\n",
    "def encode(key, message):\n",
    "    # adjust each character in the message by the key\n",
    "    # return the joined character string\n",
    "    ciphtext = \"\".join([charencode(key, c) for c in message])\n",
    "    return ciphtext\n"
   ]
  },
  {
   "cell_type": "code",
   "execution_count": 2,
   "metadata": {},
   "outputs": [
    {
     "data": {
      "text/plain": [
       "'QRS 789 qrs NOP nop'"
      ]
     },
     "execution_count": 2,
     "metadata": {},
     "output_type": "execute_result"
    }
   ],
   "source": [
    "encode(16, \"ABC 123 abc XYZ xyz\")"
   ]
  },
  {
   "cell_type": "code",
   "execution_count": 3,
   "metadata": {},
   "outputs": [
    {
     "data": {
      "text/plain": [
       "\"Diwhu kdylqj vshqw wzr vhvvlrqv lq Hglqexujk, pb idwkhu shufhlyhg, ru kh khdug \\niurp pb vlvwhuv, wkdw L glg qrw olnh wkh wkrxjkw ri ehlqj d skbvlfldq, vr kh sursrvhg wkdw L \\nvkrxog ehfrph d fohujbpdq. Kh zdv yhub surshuob yhkhphqw djdlqvw pb wxuqlqj lqwr dq lgoh vsruwlqj pdq, \\nzklfk wkhq vhhphg pb suredeoh ghvwlqdwlrq. L dvnhg iru vrph wlph wr frqvlghu, dv iurp zkdw olwwoh \\nL kdg khdug ru wkrxjkw rq wkh vxemhfw L kdg vfuxsohv derxw ghfodulqj pb eholhi lq doo wkh \\ngrjpdv ri wkh Fkxufk ri Hqjodqg; wkrxjk rwkhuzlvh L olnhg wkh wkrxjkw ri ehlqj d frxqwub fohujbpdq. \\nDffruglqjob L uhdg zlwk fduh 'Shduvrq rq wkh Fuhhg,' dqg d ihz rwkhu errnv rq glylqlwb; \\ndqg dv L glg qrw wkhq lq wkh ohdvw grxew wkh vwulfw dqg olwhudo wuxwk ri hyhub zrug lq wkh \\nEleoh, L vrrq shuvxdghg pbvhoi wkdw rxu Fuhhg pxvw eh ixoob dffhswhg.\""
      ]
     },
     "execution_count": 3,
     "metadata": {},
     "output_type": "execute_result"
    }
   ],
   "source": [
    "sampletext = \"\"\"After having spent two sessions in Edinburgh, my father perceived, or he heard \n",
    "from my sisters, that I did not like the thought of being a physician, so he proposed that I \n",
    "should become a clergyman. He was very properly vehement against my turning into an idle sporting man, \n",
    "which then seemed my probable destination. I asked for some time to consider, as from what little \n",
    "I had heard or thought on the subject I had scruples about declaring my belief in all the \n",
    "dogmas of the Church of England; though otherwise I liked the thought of being a country clergyman. \n",
    "Accordingly I read with care 'Pearson on the Creed,' and a few other books on divinity; \n",
    "and as I did not then in the least doubt the strict and literal truth of every word in the \n",
    "Bible, I soon persuaded myself that our Creed must be fully accepted.\"\"\"\n",
    "\n",
    "encode(3, sampletext)"
   ]
  },
  {
   "cell_type": "code",
   "execution_count": 4,
   "metadata": {},
   "outputs": [
    {
     "data": {
      "text/plain": [
       "'Wklv lv wkh phvvdjh wkdw zh zlvk wr vhqg. 😜'"
      ]
     },
     "execution_count": 4,
     "metadata": {},
     "output_type": "execute_result"
    }
   ],
   "source": [
    "plaintext = \"This is the message that we wish to send. 😜\"\n",
    "encode(3, plaintext)"
   ]
  },
  {
   "cell_type": "code",
   "execution_count": 5,
   "metadata": {},
   "outputs": [
    {
     "data": {
      "text/plain": [
       "'Phhw lq Urrp 540 FJG rq Wkxuvgdb dw 7:73. Whoo qr rqh!'"
      ]
     },
     "execution_count": 5,
     "metadata": {},
     "output_type": "execute_result"
    }
   ],
   "source": [
    "encode(3, \"Meet in Room 217 CGD on Thursday at 4:40. Tell no one!\")"
   ]
  },
  {
   "cell_type": "code",
   "execution_count": 6,
   "metadata": {},
   "outputs": [
    {
     "data": {
      "text/plain": [
       "\"Pna lbh oryvrir gung Qnegu Inqre vf Yhxr'f sngure?!!!\""
      ]
     },
     "execution_count": 6,
     "metadata": {},
     "output_type": "execute_result"
    }
   ],
   "source": [
    "encode(13, \"Can you believe that Darth Vader is Luke's father?!!!\")"
   ]
  },
  {
   "cell_type": "code",
   "execution_count": 7,
   "metadata": {},
   "outputs": [
    {
     "data": {
      "text/plain": [
       "\"Can you believe that Darth Vader is Luke's father?!!!\""
      ]
     },
     "execution_count": 7,
     "metadata": {},
     "output_type": "execute_result"
    }
   ],
   "source": [
    "encode(13, \"Pna lbh oryvrir gung Qnegu Inqre vf Yhxr'f sngure?!!!\")"
   ]
  },
  {
   "cell_type": "code",
   "execution_count": 8,
   "metadata": {},
   "outputs": [
    {
     "name": "stdout",
     "output_type": "stream",
     "text": [
      "[(148, 32, ' '), (76, 101, 'e'), (59, 116, 't'), (48, 111, 'o'), (43, 104, 'h'), (42, 110, 'n'), (42, 97, 'a'), (41, 114, 'r'), (39, 105, 'i'), (35, 115, 's'), (34, 100, 'd'), (24, 108, 'l')]\n"
     ]
    }
   ],
   "source": [
    "# ciphertext = encode(12, sampletext)\n",
    "# print(ciphertext)\n",
    "counts = [0]*128\n",
    "\n",
    "for y in [ord(x) for x in sampletext]:\n",
    "    counts[y] = counts[y]+1\n",
    "\n",
    "big = [(counts[x], x, chr(x)) for x in range(0, 128)]\n",
    "\n",
    "big.sort(reverse=True)\n",
    "print(big[:12])"
   ]
  },
  {
   "cell_type": "code",
   "execution_count": 9,
   "metadata": {},
   "outputs": [],
   "source": [
    "def encode1(a, b, message):\n",
    "    return \"\".join([chr((a * ord(c) + b) % 128) for c in message])"
   ]
  },
  {
   "cell_type": "code",
   "execution_count": 30,
   "metadata": {},
   "outputs": [],
   "source": [
    "def analyze(message):\n",
    "    counts = [0]*128\n",
    "\n",
    "    for y in [ord(x) for x in message]:\n",
    "        counts[y] = counts[y]+1\n",
    "\n",
    "#     for i in range(0, 128):\n",
    "#         if counts[i] > 0:\n",
    "#             print(i, chr(i), counts[i])\n",
    "\n",
    "    big = [(counts[x], x, chr(x)) for x in range(0, 128)]\n",
    "    big.sort(reverse=True)\n",
    "    print(big[:6])"
   ]
  },
  {
   "cell_type": "code",
   "execution_count": 11,
   "metadata": {},
   "outputs": [],
   "source": [
    "plaintext = \"\"\"Animal Crossing is a social simulation video game series \n",
    "developed and published by Nintendo and created by Katsuya Eguchi. In Animal \n",
    "Crossing, the player character is a human who lives in a village inhabited by \n",
    "various anthropomorphic animals, carrying out various activities such as \n",
    "fishing, bug catching, and fossil hunting. The series is notable for its \n",
    "open-ended gameplay and extensive use of the video game console's internal \n",
    "clock and calendar to simulate real passage of time.\n",
    "Since its initial release in 2001, five Animal Crossing games have been \n",
    "released worldwide, one each for the Nintendo 64/iQue Player (enhanced and \n",
    "reissued for the GameCube), Nintendo DS, Wii, Nintendo 3DS and Nintendo Switch. \n",
    "The series has been both critically and commercially successful and has sold \n",
    "over 30 million units worldwide. Three spin-off games have also been released: \n",
    "Animal Crossing: Happy Home Designer for Nintendo 3DS, Animal Crossing: Amiibo \n",
    "Festival for Wii U, and Animal Crossing: Pocket Camp for mobile devices.\"\"\""
   ]
  },
  {
   "cell_type": "code",
   "execution_count": 12,
   "metadata": {},
   "outputs": [
    {
     "data": {
      "text/plain": [
       "\"HO@L(IeN[R^^@O:e@^e(e^R.@(Ie^@LdI(a@ROeg@14Re:(L4e^4[@4^e#14g4IRU41e(O1eUd+I@^=41e+peo@Oa4O1Re(O1e.[4(a41e+pef(a^dp(eT:d.=@\\x0fe`OeHO@L(Ie#N[R^^@O:\\tea=4eUI(p4[e.=([(.a4[e@^e(e=dL(Oej=ReI@g4^e@Oe(eg@II(:4e@O=(+@a41e+pe#g([@Rd^e(Oa=[RURLR[U=@.e(O@L(I^\\te.([[p@O:eRdaeg([@Rd^e(.a@g@a@4^e^d.=e(^e#7@^=@O:\\te+d:e.(a.=@O:\\te(O1e7R^^@Ie=dOa@O:\\x0fe\\x01=4e^4[@4^e@^eORa(+I4e7R[e@a^e#RU4O\\x0c4O141e:(L4UI(pe(O1e4ma4O^@g4ed^4eR7ea=4eg@14Re:(L4e.RO^RI4z^e@Oa4[O(Ie#.IR.Fe(O1e.(I4O1([eaRe^@LdI(a4e[4(IeU(^^(:4eR7ea@L4\\x0f#~@O.4e@a^e@O@a@(Ie[4I4(^4e@Oe\\x1b\\x15\\x15\\x18\\te7@g4eHO@L(IeN[R^^@O:e:(L4^e=(g4e+44Oe#[4I4(^41ejR[I1j@14\\teRO4e4(.=e7R[ea=4eo@Oa4O1Re'!\\x12@xd4euI(p4[e}4O=(O.41e(O1e#[4@^^d41e7R[ea=4eZ(L4Nd+4\\x00\\teo@Oa4O1ReQ~\\te\\n@@\\teo@Oa4O1Re\\x1eQ~e(O1eo@Oa4O1Re~j@a.=\\x0fe#\\x01=4e^4[@4^e=(^e+44Oe+Ra=e.[@a@.(IIpe(O1e.RLL4[.@(IIpe^d..4^^7dIe(O1e=(^e^RI1e#Rg4[e\\x1e\\x15eL@II@ROedO@a^ejR[I1j@14\\x0fe\\x01=[44e^U@O\\x0cR77e:(L4^e=(g4e(I^Re+44Oe[4I4(^413e#HO@L(IeN[R^^@O:3e](UUpe]RL4eQ4^@:O4[e7R[eo@Oa4O1Re\\x1eQ~\\teHO@L(IeN[R^^@O:3eHL@@+Re#W4^a@g(Ie7R[e\\n@@e\\x04\\te(O1eHO@L(IeN[R^^@O:3euR.F4aeN(LUe7R[eLR+@I4e14g@.4^\\x0f\""
      ]
     },
     "execution_count": 12,
     "metadata": {},
     "output_type": "execute_result"
    }
   ],
   "source": [
    "ciphertext = encode1(3, 5, plaintext)\n",
    "ciphertext"
   ]
  },
  {
   "cell_type": "code",
   "execution_count": 13,
   "metadata": {},
   "outputs": [],
   "source": [
    "unknowntext = \"HO@L(IeN[R^^@O:e@^e(e^R.@(Ie^@LdI(a@ROeg@14Re:(L4e^4[@4^e#14g4IRU41e(O1eUd+I@^=41e+peo@Oa4O1Re(O1e.[4(a41e+pef(a^dp(eT:d.=@\\x0fe`OeHO@L(Ie#N[R^^@O:\\tea=4eUI(p4[e.=([(.a4[e@^e(e=dL(Oej=ReI@g4^e@Oe(eg@II(:4e@O=(+@a41e+pe#g([@Rd^e(Oa=[RURLR[U=@.e(O@L(I^\\te.([[p@O:eRdaeg([@Rd^e(.a@g@a@4^e^d.=e(^e#7@^=@O:\\te+d:e.(a.=@O:\\te(O1e7R^^@Ie=dOa@O:\\x0fe\\x01=4e^4[@4^e@^eORa(+I4e7R[e@a^e#RU4O\\x0c4O141e:(L4UI(pe(O1e4ma4O^@g4ed^4eR7ea=4eg@14Re:(L4e.RO^RI4z^e@Oa4[O(Ie#.IR.Fe(O1e.(I4O1([eaRe^@LdI(a4e[4(IeU(^^(:4eR7ea@L4\\x0f#~@O.4e@a^e@O@a@(Ie[4I4(^4e@Oe\\x1b\\x15\\x15\\x18\\te7@g4eHO@L(IeN[R^^@O:e:(L4^e=(g4e+44Oe#[4I4(^41ejR[I1j@14\\teRO4e4(.=e7R[ea=4eo@Oa4O1Re'!\\x12@xd4euI(p4[e}4O=(O.41e(O1e#[4@^^d41e7R[ea=4eZ(L4Nd+4\\x00\\teo@Oa4O1ReQ~\\te\\n@@\\teo@Oa4O1Re\\x1eQ~e(O1eo@Oa4O1Re~j@a.=\\x0fe#\\x01=4e^4[@4^e=(^e+44Oe+Ra=e.[@a@.(IIpe(O1e.RLL4[.@(IIpe^d..4^^7dIe(O1e=(^e^RI1e#Rg4[e\\x1e\\x15eL@II@ROedO@a^ejR[I1j@14\\x0fe\\x01=[44e^U@O\\x0cR77e:(L4^e=(g4e(I^Re+44Oe[4I4(^413e#HO@L(IeN[R^^@O:3e](UUpe]RL4eQ4^@:O4[e7R[eo@Oa4O1Re\\x1eQ~\\teHO@L(IeN[R^^@O:3eHL@@+Re#W4^a@g(Ie7R[e\\n@@e\\x04\\te(O1eHO@L(IeN[R^^@O:3euR.F4aeN(LUe7R[eLR+@I4e14g@.4^\\x0f\""
   ]
  },
  {
   "cell_type": "code",
   "execution_count": 31,
   "metadata": {},
   "outputs": [
    {
     "name": "stdout",
     "output_type": "stream",
     "text": [
      "[(156, 32, ' '), (96, 101, 'e'), (83, 105, 'i'), (71, 97, 'a'), (67, 110, 'n'), (63, 115, 's')]\n"
     ]
    }
   ],
   "source": [
    "analyze(plaintext)"
   ]
  },
  {
   "cell_type": "code",
   "execution_count": 32,
   "metadata": {},
   "outputs": [
    {
     "name": "stdout",
     "output_type": "stream",
     "text": [
      "[(156, 101, 'e'), (96, 52, '4'), (83, 64, '@'), (71, 40, '('), (67, 79, 'O'), (63, 94, '^')]\n"
     ]
    }
   ],
   "source": [
    "analyze(ciphertext)"
   ]
  },
  {
   "cell_type": "code",
   "execution_count": 33,
   "metadata": {},
   "outputs": [
    {
     "name": "stdout",
     "output_type": "stream",
     "text": [
      "[(156, 101, 'e'), (96, 52, '4'), (83, 64, '@'), (71, 40, '('), (67, 79, 'O'), (63, 94, '^')]\n"
     ]
    }
   ],
   "source": [
    "analyze(unknowntext)"
   ]
  },
  {
   "cell_type": "code",
   "execution_count": 17,
   "metadata": {},
   "outputs": [],
   "source": [
    "import primes"
   ]
  },
  {
   "cell_type": "code",
   "execution_count": 19,
   "metadata": {},
   "outputs": [],
   "source": [
    "def mult_inv_mod_m(a, m):\n",
    "    i = int(primes.extended_gcd(a, m)[0])\n",
    "    while i < 0:\n",
    "        i += m\n",
    "    return i\n",
    "\n",
    "\n",
    "def add_inv_mod_m(b, m):\n",
    "    i = m - b\n",
    "    while i < 0:\n",
    "        i += m\n",
    "    return i"
   ]
  },
  {
   "cell_type": "code",
   "execution_count": 20,
   "metadata": {},
   "outputs": [],
   "source": [
    "def decode1_char(ai, bi, c):\n",
    "    return chr((ord(c) + bi) * ai % 128)\n",
    "\n",
    "\n",
    "def decode1(a, b, message):\n",
    "    a_inverse = mult_inv_mod_m(a, 128)\n",
    "    b_inverse = add_inv_mod_m(b, 128)\n",
    "    return \"\".join([decode1_char(a_inverse, b_inverse, c) for c in message])\n"
   ]
  },
  {
   "cell_type": "code",
   "execution_count": 21,
   "metadata": {},
   "outputs": [
    {
     "data": {
      "text/plain": [
       "\"Animal Crossing is a social simulation video game series \\ndeveloped and published by Nintendo and created by Katsuya Eguchi. In Animal \\nCrossing, the player character is a human who lives in a village inhabited by \\nvarious anthropomorphic animals, carrying out various activities such as \\nfishing, bug catching, and fossil hunting. The series is notable for its \\nopen-ended gameplay and extensive use of the video game console's internal \\nclock and calendar to simulate real passage of time.\\nSince its initial release in 2001, five Animal Crossing games have been \\nreleased worldwide, one each for the Nintendo 64/iQue Player (enhanced and \\nreissued for the GameCube), Nintendo DS, Wii, Nintendo 3DS and Nintendo Switch. \\nThe series has been both critically and commercially successful and has sold \\nover 30 million units worldwide. Three spin-off games have also been released: \\nAnimal Crossing: Happy Home Designer for Nintendo 3DS, Animal Crossing: Amiibo \\nFestival for Wii U, and Animal Crossing: Pocket Camp for mobile devices.\""
      ]
     },
     "execution_count": 21,
     "metadata": {},
     "output_type": "execute_result"
    }
   ],
   "source": [
    "decode1(3, 5, ciphertext)"
   ]
  },
  {
   "cell_type": "code",
   "execution_count": 22,
   "metadata": {},
   "outputs": [
    {
     "name": "stdout",
     "output_type": "stream",
     "text": [
      "(1, 1, 1)\n",
      "(3, 43, 1)\n",
      "(5, 77, 1)\n",
      "(7, 55, 1)\n",
      "(9, 57, 1)\n",
      "(11, 35, 1)\n",
      "(13, 69, 1)\n",
      "(15, 111, 1)\n",
      "(17, 113, 1)\n",
      "(19, 27, 1)\n",
      "(21, 61, 1)\n",
      "(23, 39, 1)\n",
      "(25, 41, 1)\n",
      "(27, 19, 1)\n",
      "(29, 53, 1)\n",
      "(31, 95, 1)\n",
      "(33, 97, 1)\n",
      "(35, 11, 1)\n",
      "(37, 45, 1)\n",
      "(39, 23, 1)\n",
      "(41, 25, 1)\n",
      "(43, 3, 1)\n",
      "(45, 37, 1)\n",
      "(47, 79, 1)\n",
      "(49, 81, 1)\n",
      "(51, 123, 1)\n",
      "(53, 29, 1)\n",
      "(55, 7, 1)\n",
      "(57, 9, 1)\n",
      "(59, 115, 1)\n",
      "(61, 21, 1)\n",
      "(63, 63, 1)\n",
      "(65, 65, 1)\n",
      "(67, 107, 1)\n",
      "(69, 13, 1)\n",
      "(71, 119, 1)\n",
      "(73, 121, 1)\n",
      "(75, 99, 1)\n",
      "(77, 5, 1)\n",
      "(79, 47, 1)\n",
      "(81, 49, 1)\n",
      "(83, 91, 1)\n",
      "(85, 125, 1)\n",
      "(87, 103, 1)\n",
      "(89, 105, 1)\n",
      "(91, 83, 1)\n",
      "(93, 117, 1)\n",
      "(95, 31, 1)\n",
      "(97, 33, 1)\n",
      "(99, 75, 1)\n",
      "(101, 109, 1)\n",
      "(103, 87, 1)\n",
      "(105, 89, 1)\n",
      "(107, 67, 1)\n",
      "(109, 101, 1)\n",
      "(111, 15, 1)\n",
      "(113, 17, 1)\n",
      "(115, 59, 1)\n",
      "(117, 93, 1)\n",
      "(119, 71, 1)\n",
      "(121, 73, 1)\n",
      "(123, 51, 1)\n",
      "(125, 85, 1)\n",
      "(127, 127, 1)\n"
     ]
    }
   ],
   "source": [
    "for a in range(1,128):\n",
    "    if primes.gcd(a, 128) == 1:\n",
    "        i = mult_inv_mod_m(a, 128)\n",
    "        print((a, i, (a * i) % 128))\n"
   ]
  },
  {
   "cell_type": "code",
   "execution_count": 23,
   "metadata": {},
   "outputs": [
    {
     "data": {
      "text/plain": [
       "[(46, 3, 43),\n",
       " (46, 11, 35),\n",
       " (46, 19, 27),\n",
       " (46, 27, 19),\n",
       " (46, 35, 11),\n",
       " (46, 43, 3),\n",
       " (62, 7, 55),\n",
       " (62, 23, 39),\n",
       " (62, 39, 23),\n",
       " (62, 55, 7),\n",
       " (66, 9, 57),\n",
       " (66, 25, 41),\n",
       " (66, 41, 25),\n",
       " (66, 57, 9),\n",
       " (82, 5, 77),\n",
       " (82, 13, 69),\n",
       " (82, 21, 61),\n",
       " (82, 29, 53),\n",
       " (82, 37, 45),\n",
       " (82, 45, 37)]"
      ]
     },
     "execution_count": 23,
     "metadata": {},
     "output_type": "execute_result"
    }
   ],
   "source": [
    "inverses = [(a+mult_inv_mod_m(a, 128), a, mult_inv_mod_m(a, 128)) for a in range(2, 128) if primes.gcd(a, 128) == 1]\n",
    "inverses.sort()\n",
    "inverses[:20]"
   ]
  },
  {
   "cell_type": "code",
   "execution_count": 34,
   "metadata": {},
   "outputs": [
    {
     "data": {
      "text/plain": [
       "'\\x1bZS?{$ QFuaaSZ\\x1d Sa { au1S{$ aS?\\x17${|SuZ 2SLgu \\x1d{?g agFSga NLg2g$u\\x10gL {ZL \\x10\\x17\\x16$Sa8gL \\x16\\x03 zSZ|gZLu {ZL 1Fg{|gL \\x16\\x03 ){|a\\x17\\x03{ \\x07\\x1d\\x1718S\\x1a sZ \\x1bZS?{$ NQFuaaSZ\\x1dd |8g \\x10${\\x03gF 18{F{1|gF Sa { 8\\x17?{Z M8u $S2ga SZ { 2S$${\\x1dg SZ8{\\x16S|gL \\x16\\x03 N2{FSu\\x17a {Z|8Fu\\x10u?uF\\x108S1 {ZS?{$ad 1{FF\\x03SZ\\x1d u\\x17| 2{FSu\\x17a {1|S2S|Sga a\\x1718 {a N\\x02Sa8SZ\\x1dd \\x16\\x17\\x1d 1{|18SZ\\x1dd {ZL \\x02uaaS$ 8\\x17Z|SZ\\x1d\\x1a \\x1c8g agFSga Sa Zu|{\\x16$g \\x02uF S|a Nu\\x10gZ\\x7fgZLgL \\x1d{?g\\x10${\\x03 {ZL gh|gZaS2g \\x17ag u\\x02 |8g 2SLgu \\x1d{?g 1uZau$g]a SZ|gFZ{$ N1$u1\\t {ZL 1{$gZL{F |u aS?\\x17${|g Fg{$ \\x10{aa{\\x1dg u\\x02 |S?g\\x1aN\\x01SZ1g S|a SZS|S{$ Fg$g{ag SZ \\x06PPkd \\x02S2g \\x1bZS?{$ QFuaaSZ\\x1d \\x1d{?ga 8{2g \\x16ggZ NFg$g{agL MuF$LMSLgd uZg g{18 \\x02uF |8g zSZ|gZLu r<5SK\\x17g 0${\\x03gF xgZ8{Z1gL {ZL NFgSaa\\x17gL \\x02uF |8g ={?gQ\\x17\\x16g\\x13d zSZ|gZLu l\\x01d mSSd zSZ|gZLu !l\\x01 {ZL zSZ|gZLu \\x01MS|18\\x1a N\\x1c8g agFSga 8{a \\x16ggZ \\x16u|8 1FS|S1{$$\\x03 {ZL 1u??gF1S{$$\\x03 a\\x1711gaa\\x02\\x17$ {ZL 8{a au$L Nu2gF !P ?S$$SuZ \\x17ZS|a MuF$LMSLg\\x1a \\x1c8Fgg a\\x10SZ\\x7fu\\x02\\x02 \\x1d{?ga 8{2g {$au \\x16ggZ Fg$g{agL^ N\\x1bZS?{$ QFuaaSZ\\x1d^ X{\\x10\\x10\\x03 Xu?g lgaS\\x1dZgF \\x02uF zSZ|gZLu !l\\x01d \\x1bZS?{$ QFuaaSZ\\x1d^ \\x1b?SS\\x16u N\"ga|S2{$ \\x02uF mSS 7d {ZL \\x1bZS?{$ QFuaaSZ\\x1d^ 0u1\\tg| Q{?\\x10 \\x02uF ?u\\x16S$g Lg2S1ga\\x1a'"
      ]
     },
     "execution_count": 34,
     "metadata": {},
     "output_type": "execute_result"
    }
   ],
   "source": [
    "encode1(27, 64, plaintext)"
   ]
  },
  {
   "cell_type": "code",
   "execution_count": 35,
   "metadata": {},
   "outputs": [
    {
     "name": "stdout",
     "output_type": "stream",
     "text": [
      "[(156, 32, ' '), (96, 103, 'g'), (83, 83, 'S'), (71, 123, '{'), (67, 90, 'Z'), (63, 97, 'a')]\n"
     ]
    }
   ],
   "source": [
    "analyze(encode1(27, 64, plaintext))"
   ]
  },
  {
   "cell_type": "code",
   "execution_count": 26,
   "metadata": {},
   "outputs": [
    {
     "data": {
      "text/plain": [
       "\"Animal Crossing is a social simulation video game series \\ndeveloped and published by Nintendo and created by Katsuya Eguchi. In Animal \\nCrossing, the player character is a human who lives in a village inhabited by \\nvarious anthropomorphic animals, carrying out various activities such as \\nfishing, bug catching, and fossil hunting. The series is notable for its \\nopen-ended gameplay and extensive use of the video game console's internal \\nclock and calendar to simulate real passage of time.\\nSince its initial release in 2001, five Animal Crossing games have been \\nreleased worldwide, one each for the Nintendo 64/iQue Player (enhanced and \\nreissued for the GameCube), Nintendo DS, Wii, Nintendo 3DS and Nintendo Switch. \\nThe series has been both critically and commercially successful and has sold \\nover 30 million units worldwide. Three spin-off games have also been released: \\nAnimal Crossing: Happy Home Designer for Nintendo 3DS, Animal Crossing: Amiibo \\nFestival for Wii U, and Animal Crossing: Pocket Camp for mobile devices.\""
      ]
     },
     "execution_count": 26,
     "metadata": {},
     "output_type": "execute_result"
    }
   ],
   "source": [
    "plaintext"
   ]
  },
  {
   "cell_type": "code",
   "execution_count": 85,
   "metadata": {},
   "outputs": [],
   "source": [
    "def get_key(r, s):\n",
    "    # where r is the value of space in the encoded message and s is the encoded value for \"e\"\n",
    "    D = 101-32  # space minus \"e\"\n",
    "    for z in range(0, 128):\n",
    "        if (D * z) % 128 == 1:\n",
    "            inverse = z\n",
    "            break\n",
    "    ainv = inverse * (r - s) % 128\n",
    "    binv = inverse * (32 * s - 101 * r) % 128\n",
    "    # Then decode using ainv and binv... Hopefully it works!\n",
    "    return (ainv, binv)\n",
    "\n",
    "def get_key1(s0, s1, e0, e1):\n",
    "    d0 = s0 - e0\n",
    "    while d0 < 0: d0 += 128\n",
    "    d1 = s1 - e1\n",
    "    while d1 < 0: d1 += 128\n",
    "    a = (d1 * mult_inv_mod_m(d0, 128)) % 128\n",
    "    b = (s1 - s0 * a) % 128\n",
    "    return (a, b)\n"
   ]
  },
  {
   "cell_type": "code",
   "execution_count": 86,
   "metadata": {},
   "outputs": [
    {
     "data": {
      "text/plain": [
       "(101, 64)"
      ]
     },
     "execution_count": 86,
     "metadata": {},
     "output_type": "execute_result"
    }
   ],
   "source": [
    "get_key(32, 103)\n",
    "# get_key1(32, 32, 101, 103)"
   ]
  },
  {
   "cell_type": "code",
   "execution_count": 43,
   "metadata": {},
   "outputs": [
    {
     "name": "stdout",
     "output_type": "stream",
     "text": [
      "[(156, 32, ' '), (96, 101, 'e'), (83, 105, 'i'), (71, 97, 'a'), (67, 110, 'n'), (63, 115, 's')]\n",
      "[(156, 32, ' '), (96, 103, 'g'), (83, 83, 'S'), (71, 123, '{'), (67, 90, 'Z'), (63, 97, 'a')]\n"
     ]
    }
   ],
   "source": [
    "analyze(plaintext)\n",
    "analyze(encode1(27, 64, plaintext))"
   ]
  },
  {
   "cell_type": "code",
   "execution_count": 81,
   "metadata": {},
   "outputs": [
    {
     "name": "stdout",
     "output_type": "stream",
     "text": [
      "[(81, 32, ' '), (37, 116, 't'), (32, 105, 'i'), (31, 111, 'o'), (28, 117, 'u'), (26, 110, 'n')]\n"
     ]
    }
   ],
   "source": [
    "unknown =   [84, 104, 105, 115, 32, 105, 115, 32, 97, 110, 32, 117, 110, 117, 115, 117, 97, 108, 32, 112, 97, 114, 97, 103, 114, 97, 112, 104, 46, 32, 73, 109, 32, 99, 117, 114, 105, 111, 117, 115, 32, 97, 115, 32, 116, 111, 32, 106, 117, 115, 116, 32, 104, 111, 119, 32, 113, 117, 105, 99, 107, 108, 121, 32, 121, 111, 117, 32, 99, 97, 110, 32, 102, 105, 110, 100, 32, 111, 117, 116, 32, 119, 104, 97, 116, 32, 105, 115, 32, 115, 111, 32, 117, 110, 117, 115, 117, 97, 108, 32, 97, 98, 111, 117, 116, 32, 105, 116, 46, 32, 73, 116, 32, 108, 111, 111, 107, 115, 32, 115, 111, 32, 111, 114, 100, 105, 110, 97, 114, 121, 32, 97, 110, 100, 32, 112, 108, 97, 105, 110, 32, 116, 104, 97, 116, 32, 121, 111, 117, 32, 119, 111, 117, 108, 100, 32, 116, 104, 105, 110, 107, 32, 110, 111, 116, 104, 105, 110, 103, 32, 119, 97, 115, 32, 119, 114, 111, 110, 103, 32, 119, 105, 116, 104, 32, 105, 116, 46, 32, 73, 110, 32, 102, 97, 99, 116, 44, 32, 110, 111, 116, 104, 105, 110, 103, 32, 105, 115, 32, 119, 114, 111, 110, 103, 32, 119, 105, 116, 104, 32, 105, 116, 33, 32, 73, 116, 32, 105, 115, 32, 104, 105, 103, 104, 108, 121, 32, 117, 110, 117, 115, 117, 97, 108, 32, 116, 104, 111, 117, 103, 104, 46, 32, 83, 116, 117, 100, 121, 32, 105, 116, 32, 97, 110, 100, 32, 116, 104, 105, 110, 107, 32, 97, 98, 111, 117, 116, 32, 105, 116, 44, 32, 98, 117, 116, 32, 121, 111, 117, 32, 115, 116, 105, 108, 108, 32, 109, 97, 121, 32, 110, 111, 116, 32, 102, 105, 110, 100, 32, 97, 110, 121, 116, 104, 105, 110, 103, 32, 111, 100, 100, 46, 32, 66, 117, 116, 32, 105, 102, 32, 121, 111, 117, 32, 119, 111, 114, 107, 32, 97, 116, 32, 105, 116, 32, 97, 32, 98, 105, 116, 44, 32, 121, 111, 117, 32, 109, 105, 103, 104, 116, 32, 102, 105, 110, 100, 32, 111, 117, 116, 46, 32, 84, 114, 121, 32, 116, 111, 32, 100, 111, 32, 115, 111, 32, 119, 105, 116, 104, 111, 117, 116, 32, 97, 110, 121, 32, 99, 111, 97, 99, 104, 105, 110, 103, 46]\n",
    "unknown_text = \"\".join([chr(x) for x in unknown])\n",
    "analyze(unknown_text)"
   ]
  },
  {
   "cell_type": "code",
   "execution_count": 87,
   "metadata": {},
   "outputs": [
    {
     "data": {
      "text/plain": [
       "(68, 32)"
      ]
     },
     "execution_count": 87,
     "metadata": {},
     "output_type": "execute_result"
    }
   ],
   "source": [
    "get_key1(32, 32, 101, 116)"
   ]
  },
  {
   "cell_type": "code",
   "execution_count": 84,
   "metadata": {},
   "outputs": [
    {
     "data": {
      "text/plain": [
       "'This is an unusual paragraph. Im curious as to just how quickly you can find out what is so unusual about it. It looks so ordinary and plain that you would think nothing was wrong with it. In fact, nothing is wrong with it! It is highly unusual though. Study it and think about it, but you still may not find anything odd. But if you work at it a bit, you might find out. Try to do so without any coaching.'"
      ]
     },
     "execution_count": 84,
     "metadata": {},
     "output_type": "execute_result"
    }
   ],
   "source": [
    "decode1(1, 0, unknown_text)"
   ]
  },
  {
   "cell_type": "code",
   "execution_count": 74,
   "metadata": {},
   "outputs": [],
   "source": [
    "def export1(a, b, message):\n",
    "    return [(a * ord(c) + b) % 128 for c in message]"
   ]
  },
  {
   "cell_type": "code",
   "execution_count": 76,
   "metadata": {},
   "outputs": [
    {
     "name": "stdout",
     "output_type": "stream",
     "text": [
      "[27, 90, 83, 63, 123, 36, 32, 81, 70, 117, 97, 97, 83, 90, 29, 32, 83, 97, 32, 123, 32, 97, 117, 49, 83, 123, 36, 32, 97, 83, 63, 23, 36, 123, 124, 83, 117, 90, 32, 50, 83, 76, 103, 117, 32, 29, 123, 63, 103, 32, 97, 103, 70, 83, 103, 97, 32, 78, 76, 103, 50, 103, 36, 117, 16, 103, 76, 32, 123, 90, 76, 32, 16, 23, 22, 36, 83, 97, 56, 103, 76, 32, 22, 3, 32, 122, 83, 90, 124, 103, 90, 76, 117, 32, 123, 90, 76, 32, 49, 70, 103, 123, 124, 103, 76, 32, 22, 3, 32, 41, 123, 124, 97, 23, 3, 123, 32, 7, 29, 23, 49, 56, 83, 26, 32, 115, 90, 32, 27, 90, 83, 63, 123, 36, 32, 78, 81, 70, 117, 97, 97, 83, 90, 29, 100, 32, 124, 56, 103, 32, 16, 36, 123, 3, 103, 70, 32, 49, 56, 123, 70, 123, 49, 124, 103, 70, 32, 83, 97, 32, 123, 32, 56, 23, 63, 123, 90, 32, 77, 56, 117, 32, 36, 83, 50, 103, 97, 32, 83, 90, 32, 123, 32, 50, 83, 36, 36, 123, 29, 103, 32, 83, 90, 56, 123, 22, 83, 124, 103, 76, 32, 22, 3, 32, 78, 50, 123, 70, 83, 117, 23, 97, 32, 123, 90, 124, 56, 70, 117, 16, 117, 63, 117, 70, 16, 56, 83, 49, 32, 123, 90, 83, 63, 123, 36, 97, 100, 32, 49, 123, 70, 70, 3, 83, 90, 29, 32, 117, 23, 124, 32, 50, 123, 70, 83, 117, 23, 97, 32, 123, 49, 124, 83, 50, 83, 124, 83, 103, 97, 32, 97, 23, 49, 56, 32, 123, 97, 32, 78, 2, 83, 97, 56, 83, 90, 29, 100, 32, 22, 23, 29, 32, 49, 123, 124, 49, 56, 83, 90, 29, 100, 32, 123, 90, 76, 32, 2, 117, 97, 97, 83, 36, 32, 56, 23, 90, 124, 83, 90, 29, 26, 32, 28, 56, 103, 32, 97, 103, 70, 83, 103, 97, 32, 83, 97, 32, 90, 117, 124, 123, 22, 36, 103, 32, 2, 117, 70, 32, 83, 124, 97, 32, 78, 117, 16, 103, 90, 127, 103, 90, 76, 103, 76, 32, 29, 123, 63, 103, 16, 36, 123, 3, 32, 123, 90, 76, 32, 103, 104, 124, 103, 90, 97, 83, 50, 103, 32, 23, 97, 103, 32, 117, 2, 32, 124, 56, 103, 32, 50, 83, 76, 103, 117, 32, 29, 123, 63, 103, 32, 49, 117, 90, 97, 117, 36, 103, 93, 97, 32, 83, 90, 124, 103, 70, 90, 123, 36, 32, 78, 49, 36, 117, 49, 9, 32, 123, 90, 76, 32, 49, 123, 36, 103, 90, 76, 123, 70, 32, 124, 117, 32, 97, 83, 63, 23, 36, 123, 124, 103, 32, 70, 103, 123, 36, 32, 16, 123, 97, 97, 123, 29, 103, 32, 117, 2, 32, 124, 83, 63, 103, 26, 78, 1, 83, 90, 49, 103, 32, 83, 124, 97, 32, 83, 90, 83, 124, 83, 123, 36, 32, 70, 103, 36, 103, 123, 97, 103, 32, 83, 90, 32, 6, 80, 80, 107, 100, 32, 2, 83, 50, 103, 32, 27, 90, 83, 63, 123, 36, 32, 81, 70, 117, 97, 97, 83, 90, 29, 32, 29, 123, 63, 103, 97, 32, 56, 123, 50, 103, 32, 22, 103, 103, 90, 32, 78, 70, 103, 36, 103, 123, 97, 103, 76, 32, 77, 117, 70, 36, 76, 77, 83, 76, 103, 100, 32, 117, 90, 103, 32, 103, 123, 49, 56, 32, 2, 117, 70, 32, 124, 56, 103, 32, 122, 83, 90, 124, 103, 90, 76, 117, 32, 114, 60, 53, 83, 75, 23, 103, 32, 48, 36, 123, 3, 103, 70, 32, 120, 103, 90, 56, 123, 90, 49, 103, 76, 32, 123, 90, 76, 32, 78, 70, 103, 83, 97, 97, 23, 103, 76, 32, 2, 117, 70, 32, 124, 56, 103, 32, 61, 123, 63, 103, 81, 23, 22, 103, 19, 100, 32, 122, 83, 90, 124, 103, 90, 76, 117, 32, 108, 1, 100, 32, 109, 83, 83, 100, 32, 122, 83, 90, 124, 103, 90, 76, 117, 32, 33, 108, 1, 32, 123, 90, 76, 32, 122, 83, 90, 124, 103, 90, 76, 117, 32, 1, 77, 83, 124, 49, 56, 26, 32, 78, 28, 56, 103, 32, 97, 103, 70, 83, 103, 97, 32, 56, 123, 97, 32, 22, 103, 103, 90, 32, 22, 117, 124, 56, 32, 49, 70, 83, 124, 83, 49, 123, 36, 36, 3, 32, 123, 90, 76, 32, 49, 117, 63, 63, 103, 70, 49, 83, 123, 36, 36, 3, 32, 97, 23, 49, 49, 103, 97, 97, 2, 23, 36, 32, 123, 90, 76, 32, 56, 123, 97, 32, 97, 117, 36, 76, 32, 78, 117, 50, 103, 70, 32, 33, 80, 32, 63, 83, 36, 36, 83, 117, 90, 32, 23, 90, 83, 124, 97, 32, 77, 117, 70, 36, 76, 77, 83, 76, 103, 26, 32, 28, 56, 70, 103, 103, 32, 97, 16, 83, 90, 127, 117, 2, 2, 32, 29, 123, 63, 103, 97, 32, 56, 123, 50, 103, 32, 123, 36, 97, 117, 32, 22, 103, 103, 90, 32, 70, 103, 36, 103, 123, 97, 103, 76, 94, 32, 78, 27, 90, 83, 63, 123, 36, 32, 81, 70, 117, 97, 97, 83, 90, 29, 94, 32, 88, 123, 16, 16, 3, 32, 88, 117, 63, 103, 32, 108, 103, 97, 83, 29, 90, 103, 70, 32, 2, 117, 70, 32, 122, 83, 90, 124, 103, 90, 76, 117, 32, 33, 108, 1, 100, 32, 27, 90, 83, 63, 123, 36, 32, 81, 70, 117, 97, 97, 83, 90, 29, 94, 32, 27, 63, 83, 83, 22, 117, 32, 78, 34, 103, 97, 124, 83, 50, 123, 36, 32, 2, 117, 70, 32, 109, 83, 83, 32, 55, 100, 32, 123, 90, 76, 32, 27, 90, 83, 63, 123, 36, 32, 81, 70, 117, 97, 97, 83, 90, 29, 94, 32, 48, 117, 49, 9, 103, 124, 32, 81, 123, 63, 16, 32, 2, 117, 70, 32, 63, 117, 22, 83, 36, 103, 32, 76, 103, 50, 83, 49, 103, 97, 26]\n"
     ]
    }
   ],
   "source": [
    "print(export1(27, 64, plaintext))"
   ]
  },
  {
   "cell_type": "code",
   "execution_count": 92,
   "metadata": {},
   "outputs": [
    {
     "name": "stdout",
     "output_type": "stream",
     "text": [
      "[38, 98, 121, 10, 99, 6, 87, 64, 53, 10, 99, 87, 10, 28, 109, 64, 24, 8, 37, 52, 10, 6, 98, 121, 10, 16, 121, 63, 5, 52, 52, 5, 52, 63, 10, 6, 98, 121, 10, 73, 52, 5, 76, 121, 64, 99, 121, 10, 111, 109, 99, 10, 51, 64, 121, 109, 6, 121, 86, 116, 8, 38, 98, 5, 99, 10, 98, 109, 99, 10, 17, 109, 86, 121, 10, 109, 10, 110, 87, 6, 10, 87, 28, 10, 122, 121, 87, 122, 110, 121, 10, 76, 121, 64, 53, 10, 109, 52, 63, 64, 53, 10, 109, 52, 86, 10, 16, 121, 121, 52, 10, 111, 5, 86, 121, 110, 53, 10, 64, 121, 63, 109, 64, 86, 121, 86, 10, 109, 99, 10, 109, 10, 16, 109, 86, 10, 17, 87, 76, 121, 116, 8, 49, 109, 52, 53, 10, 64, 109, 51, 121, 99, 10, 16, 121, 110, 5, 121, 76, 121, 10, 6, 98, 109, 6, 10, 5, 6, 10, 111, 109, 99, 10, 51, 64, 121, 109, 6, 121, 86, 10, 16, 53, 10, 99, 87, 17, 121, 10, 99, 87, 64, 6, 10, 87, 28, 10, 63, 87, 86, 46, 10, 6, 98, 87, 41, 63, 98, 10, 6, 98, 121, 10, 72, 109, 6, 64, 109, 76, 109, 64, 6, 5, 86, 10, 122, 121, 87, 122, 110, 121, 10, 87, 28, 10, 108, 5, 110, 6, 76, 87, 86, 110, 121, 10, 108, 37, 10, 16, 121, 110, 5, 121, 76, 121, 10, 6, 98, 109, 6, 10, 6, 98, 121, 10, 121, 52, 6, 5, 64, 121, 10, 73, 52, 5, 76, 121, 64, 99, 121, 10, 111, 109, 99, 10, 5, 52, 10, 28, 109, 51, 6, 10, 99, 52, 121, 121, 88, 121, 86, 10, 87, 41, 6, 10, 87, 28, 10, 6, 98, 121, 10, 52, 87, 99, 121, 10, 87, 28, 10, 109, 10, 16, 121, 5, 52, 63, 10, 51, 109, 110, 110, 121, 86, 10, 6, 98, 121, 10, 95, 64, 121, 109, 6, 10, 95, 64, 121, 121, 52, 10, 13, 64, 75, 110, 121, 99, 121, 5, 88, 41, 64, 121, 116, 8, 38, 98, 121, 10, 72, 109, 6, 64, 109, 76, 109, 64, 6, 5, 86, 99, 46, 10, 111, 98, 87, 10, 110, 5, 76, 121, 10, 5, 52, 10, 122, 121, 64, 122, 121, 6, 41, 109, 110, 10, 28, 121, 109, 64, 10, 87, 28, 10, 6, 98, 121, 10, 6, 5, 17, 121, 10, 6, 98, 121, 53, 10, 51, 109, 110, 110, 10, 6, 98, 121, 10, 83, 87, 17, 5, 52, 63, 10, 87, 28, 10, 6, 98, 121, 10, 95, 64, 121, 109, 6, 10, 15, 98, 5, 6, 121, 10, 2, 109, 52, 86, 75, 121, 64, 51, 98, 5, 121, 28, 46, 10, 109, 64, 121, 10, 99, 17, 109, 110, 110, 10, 16, 110, 41, 121, 10, 51, 64, 121, 109, 6, 41, 64, 121, 99, 10, 111, 5, 6, 98, 10, 17, 87, 64, 121, 10, 6, 98, 109, 52, 10, 28, 5, 28, 6, 53, 10, 109, 64, 17, 99, 10, 121, 109, 51, 98, 46, 10, 111, 98, 87, 10, 109, 64, 121, 10, 6, 98, 121, 64, 121, 28, 87, 64, 121, 10, 41, 52, 5, 29, 41, 121, 10, 5, 52, 10, 16, 121, 5, 52, 63, 10, 6, 98, 121, 10, 87, 52, 110, 53, 10, 64, 109, 51, 121, 10, 5, 52, 10, 98, 5, 99, 6, 87, 64, 53, 10, 6, 87, 10, 98, 109, 76, 121, 10, 5, 52, 76, 121, 52, 6, 121, 86, 10, 6, 98, 121, 10, 109, 121, 64, 87, 99, 87, 110, 10, 86, 121, 87, 86, 87, 64, 109, 52, 6, 10, 16, 121, 28, 87, 64, 121, 10, 6, 98, 121, 10, 111, 98, 121, 121, 110, 116, 8, 2, 87, 111, 121, 76, 121, 64, 46, 10, 6, 98, 121, 10, 95, 64, 121, 109, 6, 10, 95, 64, 121, 121, 52, 10, 13, 64, 75, 110, 121, 99, 121, 5, 88, 41, 64, 121, 10, 38, 98, 121, 87, 64, 53, 10, 5, 99, 10, 52, 87, 6, 10, 111, 5, 86, 121, 110, 53, 10, 109, 51, 51, 121, 122, 6, 121, 86, 10, 87, 41, 6, 99, 5, 86, 121, 10, 108, 5, 110, 6, 76, 87, 86, 110, 121, 10, 108, 37, 10, 109, 52, 86, 10, 99, 87, 46, 10, 6, 98, 121, 10, 73, 52, 5, 76, 121, 64, 99, 121, 10, 16, 121, 5, 52, 63, 10, 6, 98, 121, 10, 122, 41, 88, 88, 110, 5, 52, 63, 10, 122, 110, 109, 51, 121, 10, 5, 6, 10, 5, 99, 46, 10, 87, 6, 98, 121, 64, 10, 121, 18, 122, 110, 109, 52, 109, 6, 5, 87, 52, 99, 10, 109, 64, 121, 10, 51, 87, 52, 99, 6, 109, 52, 6, 110, 53, 10, 16, 121, 5, 52, 63, 10, 99, 87, 41, 63, 98, 6, 116]\n"
     ]
    }
   ],
   "source": [
    "rateotu = \"\"\"The story so far:\n",
    "In the beginning the Universe was created.\n",
    "This has made a lot of people very angry and been widely regarded as a bad move.\n",
    "Many races believe that it was created by some sort of god, though the Jatravartid people of Viltvodle VI believe that the entire Universe was in fact sneezed out of the nose of a being called the Great Green Arkleseizure.\n",
    "The Jatravartids, who live in perpetual fear of the time they call the Coming of the Great White Handkerchief, are small blue creatures with more than fifty arms each, who are therefore unique in being the only race in history to have invented the aerosol deodorant before the wheel.\n",
    "However, the Great Green Arkleseizure Theory is not widely accepted outside Viltvodle VI and so, the Universe being the puzzling place it is, other explanations are constantly being sought.\"\"\"\n",
    "print(export1(35, 42, rateotu))"
   ]
  },
  {
   "cell_type": "code",
   "execution_count": 93,
   "metadata": {},
   "outputs": [
    {
     "name": "stdout",
     "output_type": "stream",
     "text": [
      "[(140, 10, '\\n'), (115, 121, 'y'), (60, 6, '\\x06'), (53, 109, 'm'), (47, 64, '@'), (43, 87, 'W')]\n"
     ]
    }
   ],
   "source": [
    "unknown = export1(35, 42, rateotu)\n",
    "unknown_text = \"\".join([chr(x) for x in unknown])\n",
    "analyze(unknown_text)"
   ]
  },
  {
   "cell_type": "code",
   "execution_count": 94,
   "metadata": {},
   "outputs": [
    {
     "data": {
      "text/plain": [
       "(35, 42)"
      ]
     },
     "execution_count": 94,
     "metadata": {},
     "output_type": "execute_result"
    }
   ],
   "source": [
    "get_key1(32, 10, 101, 121)"
   ]
  },
  {
   "cell_type": "code",
   "execution_count": null,
   "metadata": {},
   "outputs": [],
   "source": []
  }
 ],
 "metadata": {
  "kernelspec": {
   "display_name": "Python 3",
   "language": "python",
   "name": "python3"
  },
  "language_info": {
   "codemirror_mode": {
    "name": "ipython",
    "version": 3
   },
   "file_extension": ".py",
   "mimetype": "text/x-python",
   "name": "python",
   "nbconvert_exporter": "python",
   "pygments_lexer": "ipython3",
   "version": "3.7.6"
  }
 },
 "nbformat": 4,
 "nbformat_minor": 4
}
