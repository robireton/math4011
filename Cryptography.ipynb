{
 "cells": [
  {
   "cell_type": "code",
   "execution_count": 7,
   "metadata": {},
   "outputs": [
    {
     "name": "stdout",
     "output_type": "stream",
     "text": [
      "3\n"
     ]
    }
   ],
   "source": [
    "l = [1, 2, 3, 4, 5]\n",
    "print(l[2])"
   ]
  },
  {
   "cell_type": "code",
   "execution_count": 8,
   "metadata": {},
   "outputs": [
    {
     "name": "stdout",
     "output_type": "stream",
     "text": [
      "[1, 2, 3, 99, 5]\n"
     ]
    }
   ],
   "source": [
    "l[3] = 99\n",
    "print(l)"
   ]
  },
  {
   "cell_type": "code",
   "execution_count": 9,
   "metadata": {},
   "outputs": [
    {
     "name": "stdout",
     "output_type": "stream",
     "text": [
      "range(0, 10)\n"
     ]
    }
   ],
   "source": [
    "k = range(0, 10)\n",
    "print(k)"
   ]
  },
  {
   "cell_type": "code",
   "execution_count": 10,
   "metadata": {},
   "outputs": [
    {
     "name": "stdout",
     "output_type": "stream",
     "text": [
      "0\n",
      "1\n",
      "2\n",
      "3\n",
      "4\n",
      "5\n",
      "6\n",
      "7\n",
      "8\n",
      "9\n"
     ]
    }
   ],
   "source": [
    "for x in k:\n",
    "    print(x)"
   ]
  },
  {
   "cell_type": "code",
   "execution_count": 13,
   "metadata": {},
   "outputs": [
    {
     "name": "stdout",
     "output_type": "stream",
     "text": [
      "[3, 6, 9, 15]\n"
     ]
    }
   ],
   "source": [
    "newlist = [3*x for x in l if x < 10]\n",
    "print(newlist)"
   ]
  },
  {
   "cell_type": "code",
   "execution_count": 17,
   "metadata": {},
   "outputs": [
    {
     "name": "stdout",
     "output_type": "stream",
     "text": [
      "plain= This is the message that we wish to send. 😜\n",
      "digitized= [84, 104, 105, 115, 32, 105, 115, 32, 116, 104, 101, 32, 109, 101, 115, 115, 97, 103, 101, 32, 116, 104, 97, 116, 32, 119, 101, 32, 119, 105, 115, 104, 32, 116, 111, 32, 115, 101, 110, 100, 46, 32, 128540]\n"
     ]
    }
   ],
   "source": [
    "plaintext = \"This is the message that we wish to send. 😜\"\n",
    "\n",
    "print(\"plain=\", plaintext)\n",
    "\n",
    "# We assume that the plain text includes the usual letters and punctuation marks\n",
    "# Computers represent such things internally as numbers (you can google ascii codes or unicode if interested)\n",
    "# For our purposes --- converting a string of text into a sequence of numbers and back\n",
    "# python provides easy tools\n",
    "\n",
    "digitizedtext = [ord(x) for x in plaintext]\n",
    "\n",
    "\n",
    "print(\"digitized=\", digitizedtext)\n",
    "\n"
   ]
  },
  {
   "cell_type": "code",
   "execution_count": 18,
   "metadata": {},
   "outputs": [
    {
     "name": "stdout",
     "output_type": "stream",
     "text": [
      "['T', 'h', 'i', 's', ' ', 'i', 's', ' ', 't', 'h', 'e', ' ', 'm', 'e', 's', 's', 'a', 'g', 'e', ' ', 't', 'h', 'a', 't', ' ', 'w', 'e', ' ', 'w', 'i', 's', 'h', ' ', 't', 'o', ' ', 's', 'e', 'n', 'd', '.', ' ', '😜']\n"
     ]
    }
   ],
   "source": [
    "listofcharacters = [chr(x) for x in digitizedtext]\n",
    "\n",
    "print(listofcharacters)"
   ]
  },
  {
   "cell_type": "code",
   "execution_count": 19,
   "metadata": {},
   "outputs": [
    {
     "name": "stdout",
     "output_type": "stream",
     "text": [
      "This is the message that we wish to send. 😜\n"
     ]
    }
   ],
   "source": [
    "outputtext = \"\".join(listofcharacters)\n",
    "print(outputtext)"
   ]
  },
  {
   "cell_type": "code",
   "execution_count": 20,
   "metadata": {},
   "outputs": [
    {
     "name": "stdout",
     "output_type": "stream",
     "text": [
      "encodedtext= [87, 107, 108, 118, 35, 108, 118, 35, 119, 107, 104, 35, 112, 104, 118, 118, 100, 106, 104, 35, 119, 107, 100, 119, 35, 122, 104, 35, 122, 108, 118, 107, 35, 119, 114, 35, 118, 104, 113, 103, 49, 35, 31]\n",
      "ciphertext= Wklv#lv#wkh#phvvdjh#wkdw#zh#zlvk#wr#vhqg1#\u001f\n"
     ]
    }
   ],
   "source": [
    "encodedtext = [(x+3) % 128 for x in digitizedtext]\n",
    "\n",
    "print(\"encodedtext=\", encodedtext)\n",
    "\n",
    "ciphertext = \"\".join([chr(x) for x in encodedtext])\n",
    "\n",
    "print(\"ciphertext=\", ciphertext)"
   ]
  },
  {
   "cell_type": "code",
   "execution_count": 55,
   "metadata": {},
   "outputs": [],
   "source": [
    "def charencode(key, c):\n",
    "    # Only change letters and digits.\n",
    "    # if a character is a letter or a digit,\n",
    "    # adjust its code to a range that starts at zero,\n",
    "    # offset by the key, wrapping around if the range is exceeded,\n",
    "    # adjust back to the ASCII range,\n",
    "    # then return the encoded character\n",
    "    if ord(c) <  ord('0'): return c\n",
    "    if ord(c) <= ord('9'): return chr(ord('0') + (ord(c)-ord('0')+key)%10)\n",
    "    if ord(c) <  ord('A'): return c\n",
    "    if ord(c) <= ord('Z'): return chr(ord('A') + (ord(c)-ord('A')+key)%26)\n",
    "    if ord(c) <  ord('a'): return c\n",
    "    if ord(c) <= ord('z'): return chr(ord('a') + (ord(c)-ord('a')+key)%26)\n",
    "    return c\n",
    "\n",
    "def encode(key, message):\n",
    "    # adjust each character in the message by the key\n",
    "    # return the joined character string\n",
    "    ciphtext = \"\".join([charencode(key, c) for c in message])\n",
    "    return ciphtext\n"
   ]
  },
  {
   "cell_type": "code",
   "execution_count": 56,
   "metadata": {},
   "outputs": [
    {
     "data": {
      "text/plain": [
       "'QRS 789 qrs NOP nop'"
      ]
     },
     "execution_count": 56,
     "metadata": {},
     "output_type": "execute_result"
    }
   ],
   "source": [
    "encode(16, \"ABC 123 abc XYZ xyz\")"
   ]
  },
  {
   "cell_type": "code",
   "execution_count": 57,
   "metadata": {},
   "outputs": [
    {
     "data": {
      "text/plain": [
       "\"Diwhu kdylqj vshqw wzr vhvvlrqv lq Hglqexujk, pb idwkhu shufhlyhg, ru kh khdug \\niurp pb vlvwhuv, wkdw L glg qrw olnh wkh wkrxjkw ri ehlqj d skbvlfldq, vr kh sursrvhg wkdw L \\nvkrxog ehfrph d fohujbpdq. Kh zdv yhub surshuob yhkhphqw djdlqvw pb wxuqlqj lqwr dq lgoh vsruwlqj pdq, \\nzklfk wkhq vhhphg pb suredeoh ghvwlqdwlrq. L dvnhg iru vrph wlph wr frqvlghu, dv iurp zkdw olwwoh \\nL kdg khdug ru wkrxjkw rq wkh vxemhfw L kdg vfuxsohv derxw ghfodulqj pb eholhi lq doo wkh \\ngrjpdv ri wkh Fkxufk ri Hqjodqg; wkrxjk rwkhuzlvh L olnhg wkh wkrxjkw ri ehlqj d frxqwub fohujbpdq. \\nDffruglqjob L uhdg zlwk fduh 'Shduvrq rq wkh Fuhhg,' dqg d ihz rwkhu errnv rq glylqlwb; \\ndqg dv L glg qrw wkhq lq wkh ohdvw grxew wkh vwulfw dqg olwhudo wuxwk ri hyhub zrug lq wkh \\nEleoh, L vrrq shuvxdghg pbvhoi wkdw rxu Fuhhg pxvw eh ixoob dffhswhg.\""
      ]
     },
     "execution_count": 57,
     "metadata": {},
     "output_type": "execute_result"
    }
   ],
   "source": [
    "sampletext = \"\"\"After having spent two sessions in Edinburgh, my father perceived, or he heard \n",
    "from my sisters, that I did not like the thought of being a physician, so he proposed that I \n",
    "should become a clergyman. He was very properly vehement against my turning into an idle sporting man, \n",
    "which then seemed my probable destination. I asked for some time to consider, as from what little \n",
    "I had heard or thought on the subject I had scruples about declaring my belief in all the \n",
    "dogmas of the Church of England; though otherwise I liked the thought of being a country clergyman. \n",
    "Accordingly I read with care 'Pearson on the Creed,' and a few other books on divinity; \n",
    "and as I did not then in the least doubt the strict and literal truth of every word in the \n",
    "Bible, I soon persuaded myself that our Creed must be fully accepted.\"\"\"\n",
    "\n",
    "encode(3, sampletext)"
   ]
  },
  {
   "cell_type": "code",
   "execution_count": 44,
   "metadata": {},
   "outputs": [
    {
     "name": "stdout",
     "output_type": "stream",
     "text": [
      "[(1, 2), (2, 4), (3, 8), (4, 16), (5, 15), (6, 13), (7, 9), (8, 1), (9, 2), (10, 4), (11, 8), (12, 16), (13, 15), (14, 13), (15, 9), (16, 1)]\n"
     ]
    }
   ],
   "source": [
    "n = 17\n",
    "a = 2\n",
    "print([(k, (a**k)%n) for k in range(1, n)])"
   ]
  },
  {
   "cell_type": "code",
   "execution_count": 53,
   "metadata": {},
   "outputs": [
    {
     "data": {
      "text/plain": [
       "'Wklv lv wkh phvvdjh wkdw zh zlvk wr vhqg. 😜'"
      ]
     },
     "execution_count": 53,
     "metadata": {},
     "output_type": "execute_result"
    }
   ],
   "source": [
    "plaintext = \"This is the message that we wish to send. 😜\"\n",
    "encode(3, plaintext)"
   ]
  },
  {
   "cell_type": "code",
   "execution_count": 54,
   "metadata": {},
   "outputs": [
    {
     "data": {
      "text/plain": [
       "'Phhw lq Urrp 540 FJG rq Wkxuvgdb dw 7:73.'"
      ]
     },
     "execution_count": 54,
     "metadata": {},
     "output_type": "execute_result"
    }
   ],
   "source": [
    "encode(3, \"Meet in Room 217 CGD on Thursday at 4:40.\")"
   ]
  },
  {
   "cell_type": "code",
   "execution_count": 58,
   "metadata": {},
   "outputs": [
    {
     "data": {
      "text/plain": [
       "\"Pna lbh oryvrir gung Qnegu Inqre vf Yhxr'f sngure?!!!\""
      ]
     },
     "execution_count": 58,
     "metadata": {},
     "output_type": "execute_result"
    }
   ],
   "source": [
    "encode(13, \"Can you believe that Darth Vader is Luke's father?!!!\")"
   ]
  },
  {
   "cell_type": "code",
   "execution_count": 59,
   "metadata": {},
   "outputs": [
    {
     "data": {
      "text/plain": [
       "\"Can you believe that Darth Vader is Luke's father?!!!\""
      ]
     },
     "execution_count": 59,
     "metadata": {},
     "output_type": "execute_result"
    }
   ],
   "source": [
    "encode(13, \"Pna lbh oryvrir gung Qnegu Inqre vf Yhxr'f sngure?!!!\")"
   ]
  },
  {
   "cell_type": "code",
   "execution_count": null,
   "metadata": {},
   "outputs": [],
   "source": []
  }
 ],
 "metadata": {
  "kernelspec": {
   "display_name": "Python 3",
   "language": "python",
   "name": "python3"
  },
  "language_info": {
   "codemirror_mode": {
    "name": "ipython",
    "version": 3
   },
   "file_extension": ".py",
   "mimetype": "text/x-python",
   "name": "python",
   "nbconvert_exporter": "python",
   "pygments_lexer": "ipython3",
   "version": "3.7.6"
  }
 },
 "nbformat": 4,
 "nbformat_minor": 4
}
