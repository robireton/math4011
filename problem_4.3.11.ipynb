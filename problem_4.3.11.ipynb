{
 "cells": [
  {
   "cell_type": "markdown",
   "metadata": {},
   "source": [
    "**4.3.11** Assuming that $495$ divides $273x49y5$, obtain the digits $x$ and $y$.\n",
    "\n",
    "I see that $495$ and $273x49y5$ (let’s call that $N$) are both divisible by $5$; what else divides $495$?"
   ]
  },
  {
   "cell_type": "code",
   "execution_count": 1,
   "metadata": {},
   "outputs": [
    {
     "data": {
      "text/plain": [
       "3^2 ⋅ 5 ⋅ 11"
      ]
     },
     "execution_count": 1,
     "metadata": {},
     "output_type": "execute_result"
    }
   ],
   "source": [
    "using Primes\n",
    "factor(495)"
   ]
  },
  {
   "cell_type": "markdown",
   "metadata": {},
   "source": [
    "A-ha! $495$ is also divisible by $9$ ($3^2$) and by $11$. I know things about divisibility by $9$ and $11$.\n",
    "\n",
    "Since $9 \\mid 495$ and $495 \\mid N$, then $9 \\mid N$. Thanks to our theorem, we know that $9$ also divides the sum of the digits of $N$, that is:\n",
    "\n",
    "$$9 \\mid 2+7+3+x+4+9+y+5$$\n",
    "\n",
    "Letting Julia do the arithmetic:"
   ]
  },
  {
   "cell_type": "code",
   "execution_count": 2,
   "metadata": {},
   "outputs": [
    {
     "data": {
      "text/plain": [
       "30"
      ]
     },
     "execution_count": 2,
     "metadata": {},
     "output_type": "execute_result"
    }
   ],
   "source": [
    "2 + 7 + 3 + 4 + 9 + 5"
   ]
  },
  {
   "cell_type": "markdown",
   "metadata": {},
   "source": [
    "shows that $9$ must divide $x + y + 30$.\n",
    "\n",
    "I wonder which combinations of $x$ and $y$ satisfy this?"
   ]
  },
  {
   "cell_type": "code",
   "execution_count": 3,
   "metadata": {},
   "outputs": [
    {
     "data": {
      "text/plain": [
       "11-element Array{NamedTuple{(:𝑥, :𝑦),Tuple{Int64,Int64}},1}:\n",
       " (𝑥 = 0, 𝑦 = 6)\n",
       " (𝑥 = 1, 𝑦 = 5)\n",
       " (𝑥 = 2, 𝑦 = 4)\n",
       " (𝑥 = 3, 𝑦 = 3)\n",
       " (𝑥 = 4, 𝑦 = 2)\n",
       " (𝑥 = 5, 𝑦 = 1)\n",
       " (𝑥 = 6, 𝑦 = 0)\n",
       " (𝑥 = 6, 𝑦 = 9)\n",
       " (𝑥 = 7, 𝑦 = 8)\n",
       " (𝑥 = 8, 𝑦 = 7)\n",
       " (𝑥 = 9, 𝑦 = 6)"
      ]
     },
     "execution_count": 3,
     "metadata": {},
     "output_type": "execute_result"
    }
   ],
   "source": [
    "𝐴 = [(𝑥 = 𝑥, 𝑦 = 𝑦) for 𝑦 ∈ 0:9, 𝑥 ∈ 0:9]\n",
    "𝐵 = filter(𝑡 -> (𝑡.𝑥 + 𝑡.𝑦 + 30) % 9 == 0, 𝐴)"
   ]
  },
  {
   "cell_type": "markdown",
   "metadata": {},
   "source": [
    "In the code above, I make a list ($A$) of all the combinations of digits $x$ and $y$; then, I filter that list down to the ones where $9 \\mid x + y + 30$. There were eleven of them. (*The filter function in Julia takes a function that returns true or false and list of items. It applies the function to each item of the list and returns a new list containing the items that the function returned true for.*)\n",
    "\n",
    "There is a further restriction on $x$ and $y$ due to the divisibility of $495$ and $N$ by $11$. It must also be the case that $11$ divides the alternating sum of the digits of $N$. That is:\n",
    "\n",
    "$$11 \\mid 5-y+9-4+x-3+7-2$$\n",
    "\n",
    "More arithmetic:"
   ]
  },
  {
   "cell_type": "code",
   "execution_count": 4,
   "metadata": {},
   "outputs": [
    {
     "data": {
      "text/plain": [
       "12"
      ]
     },
     "execution_count": 4,
     "metadata": {},
     "output_type": "execute_result"
    }
   ],
   "source": [
    "5 + 9 - 4 - 3 + 7 - 2"
   ]
  },
  {
   "cell_type": "markdown",
   "metadata": {},
   "source": [
    "So, our second restriction on $x$ & $y$ is that $11$ must divide $x-y+12$. The combinations of $x$ and $y$ that satisfy this are:"
   ]
  },
  {
   "cell_type": "code",
   "execution_count": 5,
   "metadata": {},
   "outputs": [
    {
     "data": {
      "text/plain": [
       "9-element Array{NamedTuple{(:𝑥, :𝑦),Tuple{Int64,Int64}},1}:\n",
       " (𝑥 = 0, 𝑦 = 1)\n",
       " (𝑥 = 1, 𝑦 = 2)\n",
       " (𝑥 = 2, 𝑦 = 3)\n",
       " (𝑥 = 3, 𝑦 = 4)\n",
       " (𝑥 = 4, 𝑦 = 5)\n",
       " (𝑥 = 5, 𝑦 = 6)\n",
       " (𝑥 = 6, 𝑦 = 7)\n",
       " (𝑥 = 7, 𝑦 = 8)\n",
       " (𝑥 = 8, 𝑦 = 9)"
      ]
     },
     "execution_count": 5,
     "metadata": {},
     "output_type": "execute_result"
    }
   ],
   "source": [
    "𝐶 = filter(𝑡 -> (𝑡.𝑥 - 𝑡.𝑦 + 12) % 11 == 0, 𝐴)"
   ]
  },
  {
   "cell_type": "markdown",
   "metadata": {},
   "source": [
    "I could probably eyeball the two lists to find the combination that satisfies both conditions, but just in case:"
   ]
  },
  {
   "cell_type": "code",
   "execution_count": 6,
   "metadata": {},
   "outputs": [
    {
     "data": {
      "text/plain": [
       "1-element Array{NamedTuple{(:𝑥, :𝑦),Tuple{Int64,Int64}},1}:\n",
       " (𝑥 = 7, 𝑦 = 8)"
      ]
     },
     "execution_count": 6,
     "metadata": {},
     "output_type": "execute_result"
    }
   ],
   "source": [
    "𝐵 ∩ 𝐶"
   ]
  },
  {
   "cell_type": "markdown",
   "metadata": {},
   "source": [
    "This should mean that $495 \\mid 27374985$. These are small enough to check directly:"
   ]
  },
  {
   "cell_type": "code",
   "execution_count": 7,
   "metadata": {},
   "outputs": [
    {
     "data": {
      "text/plain": [
       "(55303, 0)"
      ]
     },
     "execution_count": 7,
     "metadata": {},
     "output_type": "execute_result"
    }
   ],
   "source": [
    "divrem(27374985, 495)"
   ]
  },
  {
   "cell_type": "markdown",
   "metadata": {},
   "source": [
    "That is, $27374985 = 55303 \\times 495 + 0$. I’ll just mention here that $273x49y5$ is divisible by $5$ for all values of digits $x$ and $y$.\n",
    "\n",
    "Again, since these numbers are so small, we could have applied what we know about decimal representation to find $N$ more directly:"
   ]
  },
  {
   "cell_type": "code",
   "execution_count": 8,
   "metadata": {},
   "outputs": [
    {
     "data": {
      "text/plain": [
       "1-element Array{NamedTuple{(:𝑥, :𝑦),Tuple{Int64,Int64}},1}:\n",
       " (𝑥 = 7, 𝑦 = 8)"
      ]
     },
     "execution_count": 8,
     "metadata": {},
     "output_type": "execute_result"
    }
   ],
   "source": [
    "filter(𝑡 -> (27300000 + 𝑡.𝑥 * 10000 + 4900 + 𝑡.𝑦 * 10 + 5) % 495 == 0, 𝐴)"
   ]
  },
  {
   "cell_type": "markdown",
   "metadata": {},
   "source": [
    "Happily, this gives the same value for $N$: $27374985$.\n",
    "\n",
    "---\n",
    "\n",
    "Another note about Julia: it is new enough that Unicode was already well-established when it was created. As long as there are not conflicts, just about any unicode characters can be used for variables. Interestingly, this means that the characters in Unicode’s [Mathematical Alphanumeric Symbols](https://en.wikipedia.org/wiki/Mathematical_Alphanumeric_Symbols) block are prefectly valid variable names, letting us use the same symbols we would traditionally use to typeset math with. The biggest challenge is making sure that whatever is displaying the code has access to fonts with the needed glyph repertoire. "
   ]
  }
 ],
 "metadata": {
  "kernelspec": {
   "display_name": "Julia 1.2.0",
   "language": "julia",
   "name": "julia-1.2"
  },
  "language_info": {
   "file_extension": ".jl",
   "mimetype": "application/julia",
   "name": "julia",
   "version": "1.2.0"
  }
 },
 "nbformat": 4,
 "nbformat_minor": 4
}
