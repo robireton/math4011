{
 "cells": [
  {
   "cell_type": "markdown",
   "metadata": {},
   "source": [
    "# Subtraction Game\n",
    "\n",
    "## Rules\n",
    "\n",
    "Two players agree on two distinct positive integers to start with. On each move, player subtracts two numbers from those already produced to produce a new positive integer, one which has not already been produced. The last player to make a  move wins. If, having agreed on starting numbers, no moves are possible, then player two wins.\n",
    "\n",
    "## Example Game\n",
    "\n",
    "* Players agree on 16 and 10.\n",
    "* Player one produces 6 (16 − 10).\n",
    "* Player two produces 4 (10 − 6).\n",
    "* Player one produces 12 (16 − 4).\n",
    "* Player two produces 8 (12 − 4).\n",
    "* Player one produces 2 (6 − 4).\n",
    "* Player two produces 14 (16 − 2).\n",
    "* Player one can not move, so player two wins."
   ]
  },
  {
   "cell_type": "markdown",
   "metadata": {},
   "source": [
    "## Function Implementing Gameplay\n",
    "\n",
    "Attempt to codify how people might play the game to give something to compare short-cuts against."
   ]
  },
  {
   "cell_type": "code",
   "execution_count": 1,
   "metadata": {
    "collapsed": true,
    "jupyter": {
     "outputs_hidden": true
    }
   },
   "outputs": [
    {
     "data": {
      "text/plain": [
       "play_game (generic function with 2 methods)"
      ]
     },
     "execution_count": 1,
     "metadata": {},
     "output_type": "execute_result"
    }
   ],
   "source": [
    "function play_game(a, b, verbose = false)\n",
    "    moves = [a, b] # Keep track of numbers generated\n",
    "    player = 1 # Player one goes first\n",
    "    done = false\n",
    "    while !done\n",
    "        # Generate the set of all possible moves\n",
    "        possible_moves = Set()\n",
    "        for i in moves\n",
    "            for j in moves\n",
    "                i == j || push!(possible_moves, abs(i - j)) # differences (other than zero) are moves\n",
    "            end\n",
    "        end\n",
    "        setdiff!(possible_moves, moves) # numbers that have already been generated are not possible moves\n",
    "        \n",
    "        if length(possible_moves) > 0\n",
    "            push!(moves, rand(possible_moves)) # play one of the possible moves\n",
    "            player = -1 * player # players alternate turns\n",
    "        else\n",
    "            done = true\n",
    "        end\n",
    "    end\n",
    "    !verbose || println(moves, \" (\", length(moves) - 2, \" moves)\")\n",
    "    \n",
    "    player == 1 ? 2 : 1 # The current player can’t move, so the other player wins\n",
    "end"
   ]
  },
  {
   "cell_type": "markdown",
   "metadata": {},
   "source": [
    "## Function to Compute Winner\n",
    "\n",
    "Implement our conjecture for determining the winner given only the starting numbers, without actually playing the game."
   ]
  },
  {
   "cell_type": "code",
   "execution_count": 2,
   "metadata": {
    "collapsed": true,
    "jupyter": {
     "outputs_hidden": true
    }
   },
   "outputs": [
    {
     "data": {
      "text/plain": [
       "compute_game (generic function with 1 method)"
      ]
     },
     "execution_count": 2,
     "metadata": {},
     "output_type": "execute_result"
    }
   ],
   "source": [
    "function compute_game(a, b)\n",
    "    # compute number of multiples of gcd(a, b) up to larger of a and b\n",
    "    # if that number is even, player two won, otherwise, player one\n",
    "    (max(a, b) ÷ gcd(a, b)) % 2 == 0 ? 2 : 1\n",
    "end"
   ]
  },
  {
   "cell_type": "markdown",
   "metadata": {},
   "source": [
    "## See What We Get\n",
    "\n",
    "Play a couple of games to see what gets generated and make sure the two strategies give the same winner."
   ]
  },
  {
   "cell_type": "code",
   "execution_count": 3,
   "metadata": {},
   "outputs": [
    {
     "name": "stdout",
     "output_type": "stream",
     "text": [
      "[16, 10, 6, 4, 12, 2, 14, 8] (6 moves)\n"
     ]
    },
    {
     "data": {
      "text/plain": [
       "(2, 2)"
      ]
     },
     "execution_count": 3,
     "metadata": {},
     "output_type": "execute_result"
    }
   ],
   "source": [
    "x = 16\n",
    "y = 10\n",
    "play_game(x, y, true), compute_game(x, y)"
   ]
  },
  {
   "cell_type": "code",
   "execution_count": 4,
   "metadata": {},
   "outputs": [
    {
     "name": "stdout",
     "output_type": "stream",
     "text": [
      "[34, 10, 24, 14, 20, 4, 6, 16, 2, 12, 30, 32, 26, 8, 22, 18, 28] (15 moves)\n"
     ]
    },
    {
     "data": {
      "text/plain": [
       "(1, 1)"
      ]
     },
     "execution_count": 4,
     "metadata": {},
     "output_type": "execute_result"
    }
   ],
   "source": [
    "x = 34\n",
    "y = 10\n",
    "play_game(x, y, true), compute_game(x, y)"
   ]
  },
  {
   "cell_type": "markdown",
   "metadata": {},
   "source": [
    "Try that last game again. The list of moves should be in a different order."
   ]
  },
  {
   "cell_type": "code",
   "execution_count": 5,
   "metadata": {},
   "outputs": [
    {
     "name": "stdout",
     "output_type": "stream",
     "text": [
      "[34, 10, 24, 14, 20, 6, 28, 18, 4, 2, 8, 26, 32, 22, 30, 12, 16] (15 moves)\n"
     ]
    },
    {
     "data": {
      "text/plain": [
       "1"
      ]
     },
     "execution_count": 5,
     "metadata": {},
     "output_type": "execute_result"
    }
   ],
   "source": [
    "play_game(x, y, true)"
   ]
  },
  {
   "cell_type": "markdown",
   "metadata": {},
   "source": [
    "## Function to Compare Strategies\n",
    "\n",
    "Play a bunch of games and see if the computed winner matches the result of actually playing the game. Not conclusive, but illustrative."
   ]
  },
  {
   "cell_type": "code",
   "execution_count": 6,
   "metadata": {
    "collapsed": true,
    "jupyter": {
     "outputs_hidden": true
    }
   },
   "outputs": [
    {
     "data": {
      "text/plain": [
       "test_games (generic function with 1 method)"
      ]
     },
     "execution_count": 6,
     "metadata": {},
     "output_type": "execute_result"
    }
   ],
   "source": [
    "function test_games(a, b)\n",
    "    games = 0\n",
    "    agreements = 0\n",
    "\n",
    "    for a in a:b\n",
    "        for b in 1:(a - 1)\n",
    "            games = games + 1\n",
    "            play = play_game(a, b)\n",
    "            compute = compute_game(a, b)\n",
    "            if play == compute\n",
    "                agreements = agreements + 1\n",
    "            else\n",
    "                print(\"\\n\\n\", play, \" not equal to \", compute, \"\\n\\n\")\n",
    "            end\n",
    "        end\n",
    "    end\n",
    "    games, agreements\n",
    "end"
   ]
  },
  {
   "cell_type": "code",
   "execution_count": 7,
   "metadata": {},
   "outputs": [
    {
     "data": {
      "text/plain": [
       "(4950, 4950)"
      ]
     },
     "execution_count": 7,
     "metadata": {},
     "output_type": "execute_result"
    }
   ],
   "source": [
    "test_games(2, 100)"
   ]
  },
  {
   "cell_type": "markdown",
   "metadata": {},
   "source": [
    "## Observations (not proven)\n",
    "\n",
    "let $a$, $b$ be positive integers with $a > b$.\n",
    "\n",
    "* If $a$ is twice $b$, then no moves are possible.\n",
    "* The first two moves are uniquely determined by choice of $a$ and $b$.\n",
    "* Only games longer than three moves can play out in more than one way.\n",
    "* Length of game is $a \\div \\gcd{(a, b)} - 2$.\n",
    "* Player one wins when game length is odd, player two when even.\n"
   ]
  }
 ],
 "metadata": {
  "kernelspec": {
   "display_name": "Julia 1.2.0",
   "language": "julia",
   "name": "julia-1.2"
  },
  "language_info": {
   "file_extension": ".jl",
   "mimetype": "application/julia",
   "name": "julia",
   "version": "1.2.0"
  }
 },
 "nbformat": 4,
 "nbformat_minor": 4
}
