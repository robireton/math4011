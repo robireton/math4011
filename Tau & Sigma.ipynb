{
 "cells": [
  {
   "cell_type": "markdown",
   "metadata": {},
   "source": [
    "*There is a small proof below, but first, a bit of fun…*\n",
    "\n",
    "I could not find built-in implementations of our $\\tau$ and $\\sigma$ functions, so I decided to implement them myself—in three ways!\n",
    "\n",
    "## naive and computery implementations based on definitions"
   ]
  },
  {
   "cell_type": "code",
   "execution_count": 1,
   "metadata": {},
   "outputs": [
    {
     "data": {
      "text/plain": [
       "12-element Array{Tuple{Int64,Int64,Int64},1}:\n",
       " (1, 1, 1)  \n",
       " (2, 2, 3)  \n",
       " (3, 2, 4)  \n",
       " (4, 3, 7)  \n",
       " (5, 2, 6)  \n",
       " (6, 4, 12) \n",
       " (7, 2, 8)  \n",
       " (8, 4, 15) \n",
       " (9, 3, 13) \n",
       " (10, 4, 18)\n",
       " (11, 2, 12)\n",
       " (12, 6, 28)"
      ]
     },
     "execution_count": 1,
     "metadata": {},
     "output_type": "execute_result"
    }
   ],
   "source": [
    "# number of divisors of n\n",
    "τ(n) = length([d for d in 1:n if rem(n, d) == 0])\n",
    "# sum of divisors of n\n",
    "σ(n) = sum([d for d in 1:n if rem(n, d) == 0])\n",
    "\n",
    "[(n, τ(n), σ(n)) for n in 1:12]"
   ]
  },
  {
   "cell_type": "markdown",
   "metadata": {},
   "source": [
    "## more mathy implementations based on definitions\n",
    "\n",
    "Julia’s `sum` and `prod` functions have methods that take a function *and* an interator. These are like our $\\sum\\limits_{d \\mid n}{f(d)}$ notation."
   ]
  },
  {
   "cell_type": "code",
   "execution_count": 2,
   "metadata": {},
   "outputs": [
    {
     "data": {
      "text/plain": [
       "12-element Array{Tuple{Int64,Int64,Int64},1}:\n",
       " (1, 1, 1)  \n",
       " (2, 2, 3)  \n",
       " (3, 2, 4)  \n",
       " (4, 3, 7)  \n",
       " (5, 2, 6)  \n",
       " (6, 4, 12) \n",
       " (7, 2, 8)  \n",
       " (8, 4, 15) \n",
       " (9, 3, 13) \n",
       " (10, 4, 18)\n",
       " (11, 2, 12)\n",
       " (12, 6, 28)"
      ]
     },
     "execution_count": 2,
     "metadata": {},
     "output_type": "execute_result"
    }
   ],
   "source": [
    "# an a divides b operator\n",
    "divides(a, b) = rem(b, a) == 0\n",
    "# reassign the vertical bar operator\n",
    "| = divides\n",
    "# add up the divisors of n, transformed by d = 1\n",
    "τ(n) = sum( x -> 1, [d for d in 1:n if d|n] )\n",
    "# add up the divisors of n\n",
    "σ(n) = sum( x -> x, [d for d in 1:n if d|n] )\n",
    "\n",
    "[(n, τ(n), σ(n)) for n in 1:12]"
   ]
  },
  {
   "cell_type": "markdown",
   "metadata": {},
   "source": [
    "## theorem-based implementations that depend on factoring"
   ]
  },
  {
   "cell_type": "code",
   "execution_count": 3,
   "metadata": {},
   "outputs": [
    {
     "data": {
      "text/plain": [
       "11-element Array{Tuple{Int64,Int64,Int64},1}:\n",
       " (2, 2, 3)  \n",
       " (3, 2, 4)  \n",
       " (4, 3, 7)  \n",
       " (5, 2, 6)  \n",
       " (6, 4, 12) \n",
       " (7, 2, 8)  \n",
       " (8, 4, 15) \n",
       " (9, 3, 13) \n",
       " (10, 4, 18)\n",
       " (11, 2, 12)\n",
       " (12, 6, 28)"
      ]
     },
     "execution_count": 3,
     "metadata": {},
     "output_type": "execute_result"
    }
   ],
   "source": [
    "using Primes\n",
    "# factor() returns an array of p => k pairs; values() gets just the ks\n",
    "τ(n) = prod(k -> k+1, values(factor(n)))\n",
    "# first time needing to tell the type system what I intended!\n",
    "σ(n) = prod((p, k)::Pair{Int,Int} -> (p^(k+1)-1)÷(p-1), factor(n))\n",
    "# irritatingly, factor(1) returns 1 and not [2 => 0]\n",
    "[(n, τ(n), σ(n)) for n in 2:12]"
   ]
  },
  {
   "cell_type": "markdown",
   "metadata": {},
   "source": [
    "# Short Proof (*Burton* 6.1.7a)\n",
    "\n",
    "$\\tau(n)$ is an odd integer when $n$ is a perfect square.\n"
   ]
  },
  {
   "cell_type": "markdown",
   "metadata": {},
   "source": [
    "> Suppose $n$ is a perfect square.<br>\n",
    "> Then $n = a \\times a$. By FTA, $a = \\prod_{i=1}^{r} p_{i}^{k_i}$, so \n",
    "\\begin{align}\n",
    "n &= \\prod_{i=1}^{r} p_{i}^{k_i} \\times \\prod_{i=1}^{r} p_{i}^{k_i} \\\\\n",
    "&= \\prod_{i=1}^{r} p_{i}^{2k_i}\n",
    "\\end{align}\n",
    "> This makes $\\tau(n) = \\prod_{i=1}^{r} 2k_i + 1$. This product ends up being $2(\\ldots)+1$, an odd integer.<br>\n",
    "> ∎"
   ]
  },
  {
   "cell_type": "markdown",
   "metadata": {},
   "source": [
    "## Question\n",
    "This problem asked for a proof of the converse, too. (*If $\\tau(n)$ is odd, then n is a perfect square.*) I started with “$\\tau(p) = 2$ so if $\\tau(n)$ is odd, then $n$ must be composite” but couldn’t think what to do with that. I also tried to run the argument from the first part in reverse, but I don’t see if/why $\\prod_i (k_i + 1)$ being odd ($2 m + 1$) would require all of the terms to be $(2k_i + 1)$. Am I on the wrong track, or do I just have gaps in my algebra toolbox?"
   ]
  }
 ],
 "metadata": {
  "kernelspec": {
   "display_name": "Julia 1.3.1",
   "language": "julia",
   "name": "julia-1.3"
  },
  "language_info": {
   "file_extension": ".jl",
   "mimetype": "application/julia",
   "name": "julia",
   "version": "1.3.1"
  }
 },
 "nbformat": 4,
 "nbformat_minor": 4
}
