{
 "cells": [
  {
   "cell_type": "code",
   "execution_count": 3,
   "metadata": {},
   "outputs": [],
   "source": [
    "def pair(a):\n",
    "    \"\"\"take two numbers in the range 0---2^7-1 and\n",
    "    return a pair in the range 0---2^{14}-1\"\"\"\n",
    "    return 128*a[0]+a[1]\n",
    "\n",
    "\n",
    "def unpair(z):\n",
    "    \"\"\"undoes what pair() does\"\"\"\n",
    "    t = z % 128\n",
    "    s = (z-t)//128\n",
    "    return [s, t]\n",
    "\n",
    "\n",
    "def pairlist(dt):\n",
    "    \"\"\"takes a digitized list and pairs its entries returning\n",
    "    a list with bigger numbers\"\"\"\n",
    "    ans = []\n",
    "    while len(dt) >= 2:\n",
    "        ans.append(pair(dt[0:2]))\n",
    "        dt = dt[2:]\n",
    "    if len(dt) == 1:\n",
    "        dt.append(0)\n",
    "        ans.append(pair(dt))\n",
    "    return ans\n",
    "\n",
    "\n",
    "def unpairlist(pl):\n",
    "    \"\"\"undoes what pairlist() does\"\"\"\n",
    "    up = []\n",
    "    for x in pl:\n",
    "        up.extend(unpair(x))\n",
    "\n",
    "    if up[len(up)-1] == 0:\n",
    "        up.pop()\n",
    "    return up\n"
   ]
  },
  {
   "cell_type": "code",
   "execution_count": 4,
   "metadata": {},
   "outputs": [
    {
     "name": "stdout",
     "output_type": "stream",
     "text": [
      "[72, 105] 9321 [72, 105] Hi\n"
     ]
    }
   ],
   "source": [
    "a = \"Hi\"\n",
    "a = [ord(x) for x in a]\n",
    "z = pair(a)\n",
    "b = unpair(z)\n",
    "c = \"\".join([chr(x) for x in b])\n",
    "\n",
    "print(a, z, b, c)\n",
    "\n"
   ]
  },
  {
   "cell_type": "code",
   "execution_count": null,
   "metadata": {},
   "outputs": [],
   "source": []
  }
 ],
 "metadata": {
  "kernelspec": {
   "display_name": "Python 3",
   "language": "python",
   "name": "python3"
  },
  "language_info": {
   "codemirror_mode": {
    "name": "ipython",
    "version": 3
   },
   "file_extension": ".py",
   "mimetype": "text/x-python",
   "name": "python",
   "nbconvert_exporter": "python",
   "pygments_lexer": "ipython3",
   "version": "3.7.6"
  }
 },
 "nbformat": 4,
 "nbformat_minor": 4
}
