{
 "cells": [
  {
   "cell_type": "code",
   "execution_count": 22,
   "metadata": {},
   "outputs": [
    {
     "data": {
      "text/plain": [
       "totient (generic function with 2 methods)"
      ]
     },
     "execution_count": 22,
     "metadata": {},
     "output_type": "execute_result"
    }
   ],
   "source": [
    "using Primes\n",
    "# an a divides b operator\n",
    "divides(a, b) = rem(b, a) == 0\n",
    "# reassign the vertical bar operator\n",
    "| = divides\n",
    "divisors(n) = [d for d in 1:n if d|n]\n",
    "τ(n) = length(divisors(n))\n",
    "σ(n) = sum(divisors(n))\n",
    "ω(n) = length(keys(factor(n)))\n",
    "ϕ = totient"
   ]
  },
  {
   "cell_type": "code",
   "execution_count": 2,
   "metadata": {},
   "outputs": [
    {
     "data": {
      "text/plain": [
       "9-element Array{Tuple{Int64,Int64},1}:\n",
       " (1, 1)  \n",
       " (2, 1)  \n",
       " (3, 2)  \n",
       " (4, 2)  \n",
       " (6, 2)  \n",
       " (9, 6)  \n",
       " (12, 4) \n",
       " (18, 6) \n",
       " (36, 12)"
      ]
     },
     "execution_count": 2,
     "metadata": {},
     "output_type": "execute_result"
    }
   ],
   "source": [
    "[(n, ϕ(n)) for n in divisors(36)]"
   ]
  },
  {
   "cell_type": "code",
   "execution_count": 3,
   "metadata": {},
   "outputs": [
    {
     "data": {
      "text/plain": [
       "36"
      ]
     },
     "execution_count": 3,
     "metadata": {},
     "output_type": "execute_result"
    }
   ],
   "source": [
    "sum(ϕ, divisors(36))"
   ]
  },
  {
   "cell_type": "code",
   "execution_count": 4,
   "metadata": {},
   "outputs": [
    {
     "data": {
      "text/plain": [
       "0"
      ]
     },
     "execution_count": 4,
     "metadata": {},
     "output_type": "execute_result"
    }
   ],
   "source": [
    "sum(d -> (-1)^(36÷d) * ϕ(d), divisors(36))"
   ]
  },
  {
   "cell_type": "code",
   "execution_count": 7,
   "metadata": {},
   "outputs": [
    {
     "data": {
      "text/plain": [
       "24-element Array{Tuple{Int64,Int64,Int64,Int64,Array{Int64,1}},1}:\n",
       " (1, 1, 1, 2, [1])                         \n",
       " (2, 2, 1, 3, [1, 2])                      \n",
       " (3, 2, 2, 4, [1, 3])                      \n",
       " (4, 3, 2, 5, [1, 2, 4])                   \n",
       " (5, 2, 4, 6, [1, 5])                      \n",
       " (6, 4, 2, 6, [1, 2, 3, 6])                \n",
       " (7, 2, 6, 8, [1, 7])                      \n",
       " (8, 4, 4, 8, [1, 2, 4, 8])                \n",
       " (9, 3, 6, 9, [1, 3, 9])                   \n",
       " (10, 4, 4, 8, [1, 2, 5, 10])              \n",
       " (11, 2, 10, 12, [1, 11])                  \n",
       " (12, 6, 4, 10, [1, 2, 3, 4, 6, 12])       \n",
       " (13, 2, 12, 14, [1, 13])                  \n",
       " (14, 4, 6, 10, [1, 2, 7, 14])             \n",
       " (15, 4, 8, 12, [1, 3, 5, 15])             \n",
       " (16, 5, 8, 13, [1, 2, 4, 8, 16])          \n",
       " (17, 2, 16, 18, [1, 17])                  \n",
       " (18, 6, 6, 12, [1, 2, 3, 6, 9, 18])       \n",
       " (19, 2, 18, 20, [1, 19])                  \n",
       " (20, 6, 8, 14, [1, 2, 4, 5, 10, 20])      \n",
       " (21, 4, 12, 16, [1, 3, 7, 21])            \n",
       " (22, 4, 10, 14, [1, 2, 11, 22])           \n",
       " (23, 2, 22, 24, [1, 23])                  \n",
       " (24, 8, 8, 16, [1, 2, 3, 4, 6, 8, 12, 24])"
      ]
     },
     "execution_count": 7,
     "metadata": {},
     "output_type": "execute_result"
    }
   ],
   "source": [
    "[(n, τ(n), ϕ(n), τ(n) + ϕ(n), divisors(n)) for n in 1:24]"
   ]
  },
  {
   "cell_type": "code",
   "execution_count": 8,
   "metadata": {},
   "outputs": [
    {
     "data": {
      "text/plain": [
       "φ (generic function with 1 method)"
      ]
     },
     "execution_count": 8,
     "metadata": {},
     "output_type": "execute_result"
    }
   ],
   "source": [
    "φ(n) = [d for d in 1:n if gcd(d, n) == 1]"
   ]
  },
  {
   "cell_type": "code",
   "execution_count": 21,
   "metadata": {},
   "outputs": [
    {
     "data": {
      "text/plain": [
       "4-element Array{Int64,1}:\n",
       "  1\n",
       "  5\n",
       "  7\n",
       " 11"
      ]
     },
     "execution_count": 21,
     "metadata": {},
     "output_type": "execute_result"
    }
   ],
   "source": [
    "φ(12)"
   ]
  },
  {
   "cell_type": "code",
   "execution_count": 23,
   "metadata": {},
   "outputs": [
    {
     "name": "stdout",
     "output_type": "stream",
     "text": [
      "(1, 0)\n",
      "(2, 1)\n",
      "(3, 1)\n",
      "(4, 1)\n",
      "(5, 1)\n",
      "(6, 2)\n",
      "(7, 1)\n",
      "(8, 1)\n",
      "(9, 1)\n",
      "(10, 2)\n",
      "(11, 1)\n",
      "(12, 2)\n",
      "(13, 1)\n",
      "(14, 2)\n",
      "(15, 2)\n",
      "(16, 1)\n",
      "(17, 1)\n",
      "(18, 2)\n",
      "(19, 1)\n",
      "(20, 2)\n",
      "(21, 2)\n",
      "(22, 2)\n",
      "(23, 1)\n",
      "(24, 2)\n",
      "(25, 1)\n",
      "(26, 2)\n",
      "(27, 1)\n",
      "(28, 2)\n",
      "(29, 1)\n",
      "(30, 3)\n",
      "(31, 1)\n",
      "(32, 1)\n",
      "(33, 2)\n",
      "(34, 2)\n",
      "(35, 2)\n",
      "(36, 2)\n"
     ]
    }
   ],
   "source": [
    "for i in 1:36\n",
    "    println((i, ω(i)))\n",
    "end"
   ]
  },
  {
   "cell_type": "code",
   "execution_count": null,
   "metadata": {},
   "outputs": [],
   "source": []
  }
 ],
 "metadata": {
  "kernelspec": {
   "display_name": "Julia 1.3.1",
   "language": "julia",
   "name": "julia-1.3"
  },
  "language_info": {
   "file_extension": ".jl",
   "mimetype": "application/julia",
   "name": "julia",
   "version": "1.3.1"
  }
 },
 "nbformat": 4,
 "nbformat_minor": 4
}
