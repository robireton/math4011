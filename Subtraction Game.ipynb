{
 "cells": [
  {
   "cell_type": "markdown",
   "metadata": {},
   "source": [
    "# Subtraction Game\n",
    "\n",
    "## Rules\n",
    "\n",
    "Two players agree on two distinct positive integers to start with. On each move, player subtracts two numbers from those already produced to produce a new positive integer, one which has not already been produced. The last player to make a  move wins. If, having agreed on starting numbers, no moves are possible, then player two wins.\n",
    "\n",
    "# Example Game\n",
    "\n",
    "Players agree on 10 and 8. Player one produces 2. Player two produces 6. Player one produces 4. Player two can not move, so player one wins."
   ]
  },
  {
   "cell_type": "code",
   "execution_count": 1,
   "metadata": {},
   "outputs": [
    {
     "data": {
      "text/plain": [
       "play_game (generic function with 1 method)"
      ]
     },
     "execution_count": 1,
     "metadata": {},
     "output_type": "execute_result"
    }
   ],
   "source": [
    "function play_game(𝑎, 𝑏)\n",
    "    moves = [𝑎, 𝑏] # Keep track of numbers generated\n",
    "    player = 1 # Player one goes first\n",
    "    done = false\n",
    "    while !done\n",
    "        # Generate the set of all possible moves\n",
    "        possible_moves = Set()\n",
    "        for 𝑖 in moves\n",
    "            for 𝑗 in moves\n",
    "                𝑖 == 𝑗 || push!(possible_moves, abs(𝑖 - 𝑗)) # differences (other than zero) are moves\n",
    "            end\n",
    "        end\n",
    "        setdiff!(possible_moves, moves) # numbers that have already been generated are not possible moves\n",
    "        \n",
    "        if (length(possible_moves) > 0)\n",
    "            push!(moves, rand(possible_moves)) # play one of the possible moves\n",
    "            player = -1 * player # players alternate turns\n",
    "        else\n",
    "            done = true\n",
    "        end\n",
    "    end\n",
    "#     println(moves, \" (\", length(moves) - 2, \" moves)\")\n",
    "    \n",
    "    player == 1 ? 2 : 1 # The current player couldn’t move, so the other player wins\n",
    "    end"
   ]
  },
  {
   "cell_type": "code",
   "execution_count": 2,
   "metadata": {},
   "outputs": [
    {
     "data": {
      "text/plain": [
       "compute_game (generic function with 1 method)"
      ]
     },
     "execution_count": 2,
     "metadata": {},
     "output_type": "execute_result"
    }
   ],
   "source": [
    "function compute_game(𝑎, 𝑏)\n",
    "    # compute number of multiples of gcd(a, b) up to larger of a and b\n",
    "    # if that number is even, player two won, otherwise, player one\n",
    "    (max(𝑎, 𝑏) ÷ gcd(𝑎, 𝑏)) % 2 == 0 ? 2 : 1\n",
    "end"
   ]
  },
  {
   "cell_type": "code",
   "execution_count": 3,
   "metadata": {},
   "outputs": [
    {
     "data": {
      "text/plain": [
       "(2, 2)"
      ]
     },
     "execution_count": 3,
     "metadata": {},
     "output_type": "execute_result"
    }
   ],
   "source": [
    "x = 20\n",
    "y = 14\n",
    "play_game(x, y), compute_game(x, y)"
   ]
  },
  {
   "cell_type": "code",
   "execution_count": 4,
   "metadata": {},
   "outputs": [
    {
     "data": {
      "text/plain": [
       "(1, 1)"
      ]
     },
     "execution_count": 4,
     "metadata": {},
     "output_type": "execute_result"
    }
   ],
   "source": [
    "x = 38\n",
    "y = 14\n",
    "play_game(x, y), compute_game(x, y)"
   ]
  },
  {
   "cell_type": "code",
   "execution_count": 5,
   "metadata": {},
   "outputs": [
    {
     "data": {
      "text/plain": [
       "(4950, 4950)"
      ]
     },
     "execution_count": 5,
     "metadata": {},
     "output_type": "execute_result"
    }
   ],
   "source": [
    "games = 0\n",
    "agreements = 0\n",
    "\n",
    "for a in 2:100\n",
    "    for b in 1:(a - 1)\n",
    "        games = games + 1\n",
    "        play = play_game(a, b)\n",
    "        compute = compute_game(a, b)\n",
    "        if play == compute\n",
    "            agreements = agreements + 1\n",
    "        else\n",
    "            print(\"\\n\\n\", play, \" not equal to \", compute, \"\\n\\n\")\n",
    "        end\n",
    "    end\n",
    "end\n",
    "(games, agreements)"
   ]
  }
 ],
 "metadata": {
  "kernelspec": {
   "display_name": "Julia 1.2.0",
   "language": "julia",
   "name": "julia-1.2"
  },
  "language_info": {
   "file_extension": ".jl",
   "mimetype": "application/julia",
   "name": "julia",
   "version": "1.2.0"
  }
 },
 "nbformat": 4,
 "nbformat_minor": 4
}
